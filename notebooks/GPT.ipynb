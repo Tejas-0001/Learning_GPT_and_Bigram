{
 "cells": [
  {
   "cell_type": "code",
   "execution_count": 1,
   "id": "initial_id",
   "metadata": {
    "collapsed": true,
    "ExecuteTime": {
     "end_time": "2024-03-10T07:13:30.649689200Z",
     "start_time": "2024-03-10T07:13:29.313900600Z"
    }
   },
   "outputs": [],
   "source": [
    "import torch\n",
    "import torch.nn as nn\n",
    "from torch.nn import functional as F\n",
    "import mmap\n",
    "import random\n",
    "import pickle\n"
   ]
  },
  {
   "cell_type": "code",
   "outputs": [],
   "source": [
    "device = torch.device(\"cuda\" if torch.cuda.is_available() else \"cpu\")"
   ],
   "metadata": {
    "collapsed": false,
    "ExecuteTime": {
     "end_time": "2024-03-10T07:13:30.671473300Z",
     "start_time": "2024-03-10T07:13:30.666690Z"
    }
   },
   "id": "f1b82e7b1e3fec2e",
   "execution_count": 2
  },
  {
   "cell_type": "code",
   "outputs": [],
   "source": [
    "batch_size = 64\n",
    "block_size = 128\n",
    "max_iters = 1000\n",
    "learning_rate = 3e-4\n",
    "eval_iters = 100\n",
    "# eval_interval = 500\n",
    "n_embd = 384\n",
    "n_layer = 8\n",
    "n_head = 8\n",
    "dropout = 0.2"
   ],
   "metadata": {
    "collapsed": false,
    "ExecuteTime": {
     "end_time": "2024-03-10T07:16:24.944274900Z",
     "start_time": "2024-03-10T07:16:24.937715Z"
    }
   },
   "id": "4a147a58bac65b80",
   "execution_count": 17
  },
  {
   "cell_type": "code",
   "outputs": [],
   "source": [
    "with open('../data/vocab.txt','r',encoding='utf-8') as f:\n",
    "    text = f.read()\n",
    "    chars = sorted(list(set(text)))\n",
    "\n",
    "vocab_size = len(chars)"
   ],
   "metadata": {
    "collapsed": false,
    "ExecuteTime": {
     "end_time": "2024-03-10T07:16:25.473090900Z",
     "start_time": "2024-03-10T07:16:25.466053500Z"
    }
   },
   "id": "e49acefa48f47c42",
   "execution_count": 18
  },
  {
   "cell_type": "code",
   "outputs": [],
   "source": [
    "string_to_int = {ch:i for i,ch in enumerate(chars)}\n",
    "int_to_string = {i:ch for i,ch in enumerate(chars)}\n",
    "encode = lambda x: [string_to_int[c] for c in x]\n",
    "decode = lambda l: ''.join(int_to_string[x] for x in l)\n",
    "\n",
    "data = torch.tensor(encode(text), dtype=torch.long)\n"
   ],
   "metadata": {
    "collapsed": false,
    "ExecuteTime": {
     "end_time": "2024-03-10T07:16:25.841446800Z",
     "start_time": "2024-03-10T07:16:25.835139900Z"
    }
   },
   "id": "e188d72809241816",
   "execution_count": 19
  },
  {
   "cell_type": "code",
   "outputs": [],
   "source": [
    "# n = int(0.8 * len(data))\n",
    "# train_data = data[:n]\n",
    "# val_data = data[n:]\n",
    "# \n",
    "# def get_batch(split):\n",
    "#     data = train_data if split == 'train' else val_data\n",
    "#     ix = torch.randint(len(data) - block_size,(batch_size,))\n",
    "#     x = torch.stack([data[i:i+block_size] for i in ix])\n",
    "#     y = torch.stack([data[i+1:i+block_size+1] for i in ix])\n",
    "#     x,y = x.to(device), y.to(device)\n",
    "#     return x,y"
   ],
   "metadata": {
    "collapsed": false,
    "ExecuteTime": {
     "end_time": "2024-03-10T07:16:26.047569900Z",
     "start_time": "2024-03-10T07:16:26.044291400Z"
    }
   },
   "id": "ca1f77ef73db9e07",
   "execution_count": 20
  },
  {
   "cell_type": "code",
   "outputs": [],
   "source": [
    "# memory map for using small snippets of text from a single file of any size\n",
    "def get_random_chunk(split):\n",
    "    filename = \"../data/output_train.txt\" if split == 'train' else \"../data/output_val.txt\"\n",
    "    with open(filename, 'rb') as f:\n",
    "        with mmap.mmap(f.fileno(), 0, access=mmap.ACCESS_READ) as mm:\n",
    "            # Determine the file size and a random position to start reading\n",
    "            file_size = len(mm)\n",
    "            start_pos = random.randint(0, file_size - block_size * batch_size)\n",
    "\n",
    "            # Seek to the random position and read the block of text\n",
    "            mm.seek(start_pos)\n",
    "            block = mm.read(block_size*batch_size-1)\n",
    "\n",
    "            # Decode the block to a string, ignoring any invalid byte sequences\n",
    "            decoded_block = block.decode('utf-8', errors='ignore').replace('\\r', '')\n",
    "            \n",
    "            # Train and test splits\n",
    "            data = torch.tensor(encode(decoded_block), dtype=torch.long)\n",
    "            \n",
    "    return data\n",
    "\n",
    "\n",
    "def get_batch(split):\n",
    "    data = get_random_chunk(split)\n",
    "    ix = torch.randint(len(data) - block_size, (batch_size,))\n",
    "    x = torch.stack([data[i:i+block_size] for i in ix])\n",
    "    y = torch.stack([data[i+1:i+block_size+1] for i in ix])\n",
    "    x, y = x.to(device), y.to(device)\n",
    "    return x, y"
   ],
   "metadata": {
    "collapsed": false,
    "ExecuteTime": {
     "end_time": "2024-03-10T07:16:26.241167900Z",
     "start_time": "2024-03-10T07:16:26.239026900Z"
    }
   },
   "id": "628262976094c30f",
   "execution_count": 21
  },
  {
   "cell_type": "code",
   "outputs": [],
   "source": [
    "@torch.no_grad()\n",
    "def estimate_loss():\n",
    "    out = {}\n",
    "    model.eval()\n",
    "    for split in ['train','val']:\n",
    "        losses = torch.zeros(eval_iters)\n",
    "        for k in range(eval_iters):\n",
    "            X,Y = get_batch(split)\n",
    "            logits,loss = model(X,Y)\n",
    "            losses[k] = loss.item()\n",
    "        out[split] = losses.mean()\n",
    "    model.train()\n",
    "    return out"
   ],
   "metadata": {
    "collapsed": false,
    "ExecuteTime": {
     "end_time": "2024-03-10T07:16:26.431389Z",
     "start_time": "2024-03-10T07:16:26.425076800Z"
    }
   },
   "id": "7381bb0d539c44cd",
   "execution_count": 22
  },
  {
   "cell_type": "code",
   "outputs": [],
   "source": [
    "class Head(nn.Module):\n",
    "    def __init__(self,head_size):\n",
    "        super().__init__()\n",
    "        self.key = nn.Linear(n_embd,head_size,bias=False)\n",
    "        self.query = nn.Linear(n_embd,head_size,bias=False)\n",
    "        self.value = nn.Linear(n_embd,head_size,bias=False)\n",
    "        self.register_buffer('tril',torch.tril(torch.ones(block_size,block_size)))\n",
    "        self.dropout = nn.Dropout(dropout)\n",
    "        \n",
    "    def forward(self,x):\n",
    "        B,T,C = x.shape\n",
    "        k = self.key(x)\n",
    "        q = self.query(x)\n",
    "        \n",
    "        wei = q @ k.transpose(-2,-1) * k.shape[-1]**-0.5\n",
    "        wei = wei.masked_fill(self.tril[:T,:T] == 0,float('-inf'))\n",
    "        wei = F.softmax(wei,dim=-1)\n",
    "        wei = self.dropout(wei)\n",
    "        \n",
    "        v = self.value(x)\n",
    "        out = wei @ v\n",
    "        return out"
   ],
   "metadata": {
    "collapsed": false,
    "ExecuteTime": {
     "end_time": "2024-03-10T07:16:27.818613200Z",
     "start_time": "2024-03-10T07:16:27.816794300Z"
    }
   },
   "id": "592dec30c882a800",
   "execution_count": 23
  },
  {
   "cell_type": "code",
   "outputs": [],
   "source": [
    "class MultiHeadAttention(nn.Module):\n",
    "    \n",
    "    def __init__(self,num_heads,head_size):\n",
    "        super().__init__()\n",
    "        self.heads = nn.ModuleList([Head(head_size) for _ in range(num_heads)])\n",
    "        self.proj = nn.Linear(head_size*num_heads,n_embd)\n",
    "        self.dropout = nn.Dropout(dropout)\n",
    "        \n",
    "    def forward(self,x):\n",
    "        out = torch.cat([h(x) for h in self.heads],dim=-1)\n",
    "        out = self.dropout(self.proj(out))\n",
    "        return out"
   ],
   "metadata": {
    "collapsed": false,
    "ExecuteTime": {
     "end_time": "2024-03-10T07:16:28.476733700Z",
     "start_time": "2024-03-10T07:16:28.470811Z"
    }
   },
   "id": "80680ab687f67d8b",
   "execution_count": 24
  },
  {
   "cell_type": "code",
   "outputs": [],
   "source": [
    "class FeedForward(nn.Module):\n",
    "    def __init__(self,n_embd):\n",
    "        super().__init__()\n",
    "        self.net = nn.Sequential(\n",
    "            nn.Linear(in_features=n_embd, out_features=4*n_embd),\n",
    "            nn.ReLU(),\n",
    "            nn.Linear(in_features=4*n_embd,out_features=n_embd),\n",
    "            nn.Dropout(dropout),\n",
    "        )\n",
    "        \n",
    "    def forward(self,x):\n",
    "        return self.net(x)"
   ],
   "metadata": {
    "collapsed": false,
    "ExecuteTime": {
     "end_time": "2024-03-10T07:16:29.115822700Z",
     "start_time": "2024-03-10T07:16:29.113293800Z"
    }
   },
   "id": "475efeb6be7e2a14",
   "execution_count": 25
  },
  {
   "cell_type": "code",
   "outputs": [],
   "source": [
    "class Block(nn.Module):\n",
    "    def __init__(self,n_embd,n_head):\n",
    "        super().__init__()\n",
    "        head_size = n_embd // n_head\n",
    "        self.sa = MultiHeadAttention(n_head,head_size)\n",
    "        self.ffwd = FeedForward(n_embd)\n",
    "        self.ln1 = nn.LayerNorm(n_embd)\n",
    "        self.ln2 = nn.LayerNorm(n_embd)\n",
    "        \n",
    "    def forward(self,x):\n",
    "        y = self.sa(x)\n",
    "        x = self.ln1(x+y)\n",
    "        y = self.ffwd(x)\n",
    "        x = self.ln2(y+x)\n",
    "        return  x\n",
    "        "
   ],
   "metadata": {
    "collapsed": false,
    "ExecuteTime": {
     "end_time": "2024-03-10T07:16:30.301737800Z",
     "start_time": "2024-03-10T07:16:30.300507Z"
    }
   },
   "id": "f7470e278b8909bb",
   "execution_count": 26
  },
  {
   "cell_type": "code",
   "outputs": [],
   "source": [
    "class GPT(nn.Module):\n",
    "    def __init__(self, vocab_size):\n",
    "        super().__init__()\n",
    "        self.token_embedding_table = nn.Embedding(vocab_size,n_embd)\n",
    "        self.position_embedding_table = nn.Embedding(block_size,n_embd)\n",
    "        self.blocks = nn.Sequential(*[Block(n_embd,n_head=n_head) for _ in range(n_layer)])\n",
    "        \n",
    "        self.ln_f = nn.LayerNorm(n_embd)\n",
    "        self.lm_head = nn.Linear(n_embd,vocab_size)\n",
    "        \n",
    "        self.apply(self._init_weights)\n",
    "        \n",
    "    def _init_weights(self,module):\n",
    "        if isinstance(module,nn.Linear):\n",
    "            torch.nn.init.normal_(module.weight, mean=0, std=0.02)\n",
    "            if module.bias is not None:\n",
    "                torch.nn.init.zeros_(module.bias)\n",
    "            elif isinstance(module,nn.Embedding):\n",
    "                torch.nn.init.normal_(module.weight, mean=0, std=0.02)         \n",
    "        \n",
    "        \n",
    "    def forward(self,index,targets = None):\n",
    "        B,T = index.shape\n",
    "        tok_emb = self.token_embedding_table(index)\n",
    "        pos_emb = self.position_embedding_table(torch.arange(T,device=device))\n",
    "        x = tok_emb + pos_emb\n",
    "        x = self.blocks(x)\n",
    "        x = self.ln_f(x)\n",
    "        logits = self.lm_head(x)\n",
    "        \n",
    "        if targets is None:\n",
    "            loss = None\n",
    "        else:\n",
    "            B,T,C = logits.shape\n",
    "            logits = logits.view(B*T,C)\n",
    "            targets = targets.view(B*T)\n",
    "            loss = F.cross_entropy(logits,targets)\n",
    "            \n",
    "        return logits,loss\n",
    "    \n",
    "    def generate(self,index,max_new_token):\n",
    "        \n",
    "        for _ in range(max_new_token):\n",
    "            logits,loss = self.forward(index)\n",
    "            print(logits)\n",
    "            logits = logits[:,-1,:]\n",
    "            print(logits)\n",
    "            probs = F.softmax(logits,dim=-1)\n",
    "            index_next = torch.multinomial(probs,num_samples=1)\n",
    "            index = torch.cat((index,index_next),dim=1)\n",
    "        \n",
    "        return index"
   ],
   "metadata": {
    "collapsed": false,
    "ExecuteTime": {
     "end_time": "2024-03-10T07:16:31.175650600Z",
     "start_time": "2024-03-10T07:16:31.174383800Z"
    }
   },
   "id": "43934a4fa9861791",
   "execution_count": 27
  },
  {
   "cell_type": "code",
   "outputs": [],
   "source": [
    "model = GPT(vocab_size=vocab_size)\n",
    "# print(\"Loading model parameters...\")\n",
    "# with open('../models/model-01.pkl','rb') as f:\n",
    "#     model = pickle.load(f)\n",
    "# print(\"loaded\")\n",
    "m = model.to(device)"
   ],
   "metadata": {
    "collapsed": false,
    "ExecuteTime": {
     "end_time": "2024-03-10T07:17:11.466950600Z",
     "start_time": "2024-03-10T07:17:11.214697400Z"
    }
   },
   "id": "8bd8bb2fc191cb2c",
   "execution_count": 29
  },
  {
   "cell_type": "code",
   "outputs": [
    {
     "name": "stdout",
     "output_type": "stream",
     "text": [
      "Step : 0, Train loss : 8.84799575805664, Validation loss : 8.8462553024292\n",
      "Step : 100, Train loss : 2.377779245376587, Validation loss : 2.352424383163452\n",
      "Step : 200, Train loss : 2.271552801132202, Validation loss : 2.2983341217041016\n",
      "Step : 300, Train loss : 2.3528852462768555, Validation loss : 2.3014888763427734\n",
      "Step : 400, Train loss : 2.1695237159729004, Validation loss : 2.1124815940856934\n",
      "Step : 500, Train loss : 2.044499635696411, Validation loss : 2.062140464782715\n",
      "Step : 600, Train loss : 2.0709173679351807, Validation loss : 1.9742611646652222\n",
      "Step : 700, Train loss : 1.9215087890625, Validation loss : 1.9437257051467896\n",
      "Step : 800, Train loss : 1.8039458990097046, Validation loss : 1.8540457487106323\n",
      "Step : 900, Train loss : 1.8590102195739746, Validation loss : 1.7575350999832153\n",
      "1.411489725112915\n"
     ]
    }
   ],
   "source": [
    "optimizer = torch.optim.AdamW(model.parameters(),lr=learning_rate)\n",
    "\n",
    "for iter in range(max_iters):\n",
    "    if iter % eval_iters == 0:\n",
    "        losses = estimate_loss()\n",
    "        print(f\"Step : {iter}, Train loss : {losses['train']}, Validation loss : {losses['val']}\")\n",
    "        \n",
    "    xb,yb = get_batch('train')\n",
    "    \n",
    "    logits,loss = m.forward(xb,yb)\n",
    "    optimizer.zero_grad(set_to_none=True)\n",
    "    loss.backward()\n",
    "    optimizer.step()\n",
    "print(loss.item())"
   ],
   "metadata": {
    "collapsed": false,
    "ExecuteTime": {
     "end_time": "2024-03-10T07:22:40.452392900Z",
     "start_time": "2024-03-10T07:17:12.971671800Z"
    }
   },
   "id": "87f1e105525a5557",
   "execution_count": 30
  },
  {
   "cell_type": "code",
   "outputs": [],
   "source": [
    "with open('../models/model-03.pkl','wb') as f:\n",
    "    pickle.dump(model, f)"
   ],
   "metadata": {
    "collapsed": false,
    "ExecuteTime": {
     "end_time": "2024-03-10T07:22:40.559683100Z",
     "start_time": "2024-03-10T07:22:40.450083300Z"
    }
   },
   "id": "efba82e5ddf2df1f",
   "execution_count": 31
  },
  {
   "cell_type": "code",
   "outputs": [],
   "source": [],
   "metadata": {
    "collapsed": false
   },
   "id": "9a6a71e0ed8351f0"
  }
 ],
 "metadata": {
  "kernelspec": {
   "display_name": "Python 3",
   "language": "python",
   "name": "python3"
  },
  "language_info": {
   "codemirror_mode": {
    "name": "ipython",
    "version": 2
   },
   "file_extension": ".py",
   "mimetype": "text/x-python",
   "name": "python",
   "nbconvert_exporter": "python",
   "pygments_lexer": "ipython2",
   "version": "2.7.6"
  }
 },
 "nbformat": 4,
 "nbformat_minor": 5
}
