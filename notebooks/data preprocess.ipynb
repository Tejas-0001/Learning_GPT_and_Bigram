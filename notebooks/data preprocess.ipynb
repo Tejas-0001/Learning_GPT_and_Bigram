{
 "cells": [
  {
   "cell_type": "code",
   "outputs": [],
   "source": [
    "import os\n",
    "import zipfile\n",
    "import glob\n",
    "import tarfile\n",
    "import lzma\n",
    "from tqdm import tqdm\n",
    "import concurrent.futures\n",
    "import random\n"
   ],
   "metadata": {
    "collapsed": false,
    "ExecuteTime": {
     "end_time": "2024-03-09T21:19:09.235764500Z",
     "start_time": "2024-03-09T21:19:09.229478300Z"
    }
   },
   "id": "9ff5da2e3fc63ec8",
   "execution_count": 44
  },
  {
   "cell_type": "code",
   "outputs": [],
   "source": [
    "def unzip_file(zip_filepath, dest_dir):\n",
    "    try:\n",
    "        with zipfile.ZipFile(zip_filepath, 'r') as zip_ref:\n",
    "            zip_ref.extractall(dest_dir)\n",
    "        print(f\"Files extracted successfully to {dest_dir}\")\n",
    "    except FileNotFoundError:\n",
    "        print(f\"The file {zip_filepath} does not exist.\")\n",
    "    except PermissionError:\n",
    "        print(f\"Permission denied for reading the file {zip_filepath} or writing to the directory {dest_dir}.\")\n",
    "    except zipfile.BadZipFile:\n",
    "        print(f\"The file {zip_filepath} is not a zip file.\")\n",
    "    except Exception as e:\n",
    "        print(f\"An unexpected error occurred: {e}\")\n",
    "\n",
    "# Usage\n",
    "# unzip_file('../compressed/subsets-20240309T104346Z-002.zip', '../uncompressed')\n"
   ],
   "metadata": {
    "collapsed": false,
    "ExecuteTime": {
     "end_time": "2024-03-09T19:12:02.245094600Z",
     "start_time": "2024-03-09T19:12:02.240381200Z"
    }
   },
   "id": "7979ae4a446ec253",
   "execution_count": 9
  },
  {
   "cell_type": "code",
   "outputs": [
    {
     "name": "stdout",
     "output_type": "stream",
     "text": [
      "Files extracted successfully to ../uncompressed\n",
      "Files extracted successfully to ../uncompressed\n",
      "Files extracted successfully to ../uncompressed\n",
      "Files extracted successfully to ../uncompressed\n",
      "Files extracted successfully to ../uncompressed\n",
      "Files extracted successfully to ../uncompressed\n",
      "Files extracted successfully to ../uncompressed\n"
     ]
    }
   ],
   "source": [
    "file_list = glob.glob('../compressed/*.zip')\n",
    "for file in file_list:\n",
    "    f_name = file.split(\"\\\\\")[-1]    \n",
    "    unzip_file(f'../compressed/{f_name}', '../uncompressed')"
   ],
   "metadata": {
    "collapsed": false,
    "ExecuteTime": {
     "end_time": "2024-03-09T19:15:27.035362400Z",
     "start_time": "2024-03-09T19:15:05.728065700Z"
    }
   },
   "id": "1efac427343c615a",
   "execution_count": 11
  },
  {
   "cell_type": "code",
   "outputs": [],
   "source": [
    "def extract_tar_file(tar_filepath, dest_dir):\n",
    "    try:\n",
    "        with tarfile.open(tar_filepath, 'r') as tar_ref:\n",
    "            tar_ref.extractall(dest_dir)\n",
    "        print(f\"Files extracted successfully to {dest_dir}\")\n",
    "    except FileNotFoundError:\n",
    "        print(f\"The file {tar_filepath} does not exist.\")\n",
    "    except PermissionError:\n",
    "        print(f\"Permission denied for reading the file {tar_filepath} or writing to the directory {dest_dir}.\")\n",
    "    except tarfile.ReadError:\n",
    "        print(f\"The file {tar_filepath} is not a tar file.\")\n",
    "    except Exception as e:\n",
    "        print(f\"An unexpected error occurred: {e}\")\n",
    "\n",
    "# Usage\n",
    "# extract_tar_file('path_to_your_tar_file.tar', 'destination_directory')\n"
   ],
   "metadata": {
    "collapsed": false,
    "ExecuteTime": {
     "end_time": "2024-03-09T19:21:18.978770700Z",
     "start_time": "2024-03-09T19:21:18.973618600Z"
    }
   },
   "id": "9265ef5618f8870b",
   "execution_count": 14
  },
  {
   "cell_type": "code",
   "outputs": [
    {
     "name": "stdout",
     "output_type": "stream",
     "text": [
      "urlsf_subset00.tar\n",
      "Files extracted successfully to ../data\n",
      "urlsf_subset01.tar\n",
      "Files extracted successfully to ../data\n",
      "urlsf_subset02.tar\n",
      "Files extracted successfully to ../data\n",
      "urlsf_subset03.tar\n",
      "Files extracted successfully to ../data\n",
      "urlsf_subset04.tar\n",
      "Files extracted successfully to ../data\n",
      "urlsf_subset05.tar\n",
      "Files extracted successfully to ../data\n",
      "urlsf_subset06.tar\n",
      "Files extracted successfully to ../data\n",
      "urlsf_subset07.tar\n",
      "Files extracted successfully to ../data\n",
      "urlsf_subset08.tar\n",
      "Files extracted successfully to ../data\n",
      "urlsf_subset09.tar\n",
      "Files extracted successfully to ../data\n",
      "urlsf_subset10.tar\n",
      "Files extracted successfully to ../data\n",
      "urlsf_subset11.tar\n",
      "Files extracted successfully to ../data\n",
      "urlsf_subset12.tar\n",
      "Files extracted successfully to ../data\n",
      "urlsf_subset13.tar\n",
      "Files extracted successfully to ../data\n",
      "urlsf_subset14.tar\n",
      "Files extracted successfully to ../data\n",
      "urlsf_subset15.tar\n",
      "Files extracted successfully to ../data\n",
      "urlsf_subset16.tar\n",
      "Files extracted successfully to ../data\n",
      "urlsf_subset17.tar\n",
      "Files extracted successfully to ../data\n",
      "urlsf_subset18.tar\n",
      "Files extracted successfully to ../data\n",
      "urlsf_subset19.tar\n",
      "Files extracted successfully to ../data\n"
     ]
    }
   ],
   "source": [
    "file_list = glob.glob('../uncompressed/subsets/*.tar')\n",
    "for file in file_list:\n",
    "    f_name = file.split(\"\\\\\")[-1] \n",
    "    print(f_name)\n",
    "    extract_tar_file(f'../uncompressed/subsets/{f_name}', '../data')"
   ],
   "metadata": {
    "collapsed": false,
    "ExecuteTime": {
     "end_time": "2024-03-09T19:24:23.422986200Z",
     "start_time": "2024-03-09T19:23:14.388243Z"
    }
   },
   "id": "3ffb0e6548c2ed4e",
   "execution_count": 16
  },
  {
   "cell_type": "code",
   "outputs": [],
   "source": [
    "# def decompress_xz_file(xz_filepath, dest_filepath):\n",
    "#     try:\n",
    "#         with lzma.open(xz_filepath, 'rb') as f_in, open(dest_filepath, 'wb') as f_out:\n",
    "#             f_out.write(f_in.read())\n",
    "#         print(f\"File decompressed successfully to {dest_filepath}\")\n",
    "#     except FileNotFoundError:\n",
    "#         print(f\"The file {xz_filepath} does not exist.\")\n",
    "#     except PermissionError:\n",
    "#         print(f\"Permission denied for reading the file {xz_filepath} or writing to the file {dest_filepath}.\")\n",
    "#     except lzma.LZMAError:\n",
    "#         print(f\"The file {xz_filepath} is not a xz file.\")\n",
    "#     except Exception as e:\n",
    "#         print(f\"An unexpected error occurred: {e}\")\n",
    "# \n",
    "# # Usage\n",
    "# # decompress_xz_file('path_to_your_xz_file.xz', 'destination_file')\n"
   ],
   "metadata": {
    "collapsed": false,
    "ExecuteTime": {
     "end_time": "2024-03-09T19:34:04.361111800Z",
     "start_time": "2024-03-09T19:34:04.353759300Z"
    }
   },
   "id": "2ff99f4912691e84",
   "execution_count": 18
  },
  {
   "cell_type": "code",
   "outputs": [],
   "source": [
    "folder_path = \"../data/openwebtext\"\n",
    "output_file_train = \"../data/output_train.txt\"\n",
    "output_file_val = \"../data/output_val.txt\"\n",
    "vocab_file = \"../data/vocab.txt\""
   ],
   "metadata": {
    "collapsed": false,
    "ExecuteTime": {
     "end_time": "2024-03-09T21:27:51.669881400Z",
     "start_time": "2024-03-09T21:27:51.662738500Z"
    }
   },
   "id": "216692f9fe0d3b3e",
   "execution_count": 48
  },
  {
   "cell_type": "code",
   "outputs": [],
   "source": [
    "def xz_files_in_dir(directory):\n",
    "    return [filename for filename in os.listdir(directory) if filename.endswith(\".xz\") and os.path.isfile(os.path.join(directory, filename))]"
   ],
   "metadata": {
    "collapsed": false,
    "ExecuteTime": {
     "end_time": "2024-03-09T21:27:51.975574600Z",
     "start_time": "2024-03-09T21:27:51.973459100Z"
    }
   },
   "id": "93fafc707f1f9ee4",
   "execution_count": 49
  },
  {
   "cell_type": "code",
   "outputs": [],
   "source": [
    "files = xz_files_in_dir(folder_path)\n",
    "total_files = len(files)\n",
    "# print(total_files)\n",
    "split_index = int(total_files * 0.9)  # 90% for training\n",
    "files_train = files[:split_index]\n",
    "files_val = files[split_index:]\n",
    "\n",
    "# Sampling a hundredth of the files for each split\n",
    "sample_rate = 0.01\n",
    "files_train_sampled = random.sample(files_train, max(1, int(len(files_train) * sample_rate)))\n",
    "files_val_sampled = random.sample(files_val, max(1, int(len(files_val) * sample_rate)))\n",
    "# print(files_train_sampled)\n",
    "# print(files_val_sampled)\n",
    "# Ensure output files are empty before appending\n",
    "open(output_file_train, 'w').close()\n",
    "open(output_file_val, 'w').close()\n",
    "\n"
   ],
   "metadata": {
    "collapsed": false,
    "ExecuteTime": {
     "end_time": "2024-03-09T22:15:45.936655700Z",
     "start_time": "2024-03-09T22:15:45.198344Z"
    }
   },
   "id": "d3b20ba55ebf855e",
   "execution_count": 55
  },
  {
   "cell_type": "code",
   "outputs": [],
   "source": [
    "# def process_file(args):\n",
    "#     print(1)\n",
    "#     directory, filename, output_file, vocab = args\n",
    "#     print(2)\n",
    "#     file_path = os.path.join(directory, filename)\n",
    "#     with lzma.open(file_path, \"rt\", encoding=\"utf-8\") as infile:\n",
    "#         text = infile.read()\n",
    "#     with open(output_file, \"a\", encoding=\"utf-8\") as outfile:\n",
    "#         outfile.write(text)\n",
    "#     characters = set(text)\n",
    "#     return characters\n",
    "\n",
    "\n",
    "def process_files_in_parallel(files, folder_path, output_file):\n",
    "    vocab = set()\n",
    "    args = [(folder_path, filename, output_file, vocab) for filename in files]\n",
    "    # with concurrent.futures.ProcessPoolExecutor(max_workers=4) as executor:        \n",
    "    #     # print(args)\n",
    "    #     for characters in tqdm(executor.map(process_file, args), total=len(files)):\n",
    "    for (folder_path, filename, output_file, vocab) in args:\n",
    "        file_path = os.path.join(folder_path, filename)\n",
    "        with lzma.open(file_path, \"rt\", encoding=\"utf-8\") as infile:\n",
    "            text = infile.read()\n",
    "        with open(output_file, \"a\", encoding=\"utf-8\") as outfile:\n",
    "            outfile.write(text)\n",
    "        characters = set(text)\n",
    "    # return characters\n",
    "        vocab.update(characters)\n",
    "    return vocab"
   ],
   "metadata": {
    "collapsed": false,
    "ExecuteTime": {
     "end_time": "2024-03-09T22:15:47.380179800Z",
     "start_time": "2024-03-09T22:15:47.375031500Z"
    }
   },
   "id": "9949181a5a3048b9",
   "execution_count": 56
  },
  {
   "cell_type": "code",
   "outputs": [],
   "source": [
    "# Process the sampled training files\n",
    "vocab_train = process_files_in_parallel(files_train_sampled, folder_path, output_file_train)\n",
    "\n",
    "# Process the sampled validation files\n",
    "vocab_val = process_files_in_parallel(files_val_sampled, folder_path, output_file_val)\n",
    "\n",
    "# Combine vocabularies (if needed) and write to vocab.txt\n",
    "vocab = vocab_train.union(vocab_val)\n",
    "with open(vocab_file, \"w\", encoding=\"utf-8\") as vfile:\n",
    "    for char in sorted(vocab):\n",
    "        vfile.write(char + '\\n')"
   ],
   "metadata": {
    "collapsed": false,
    "ExecuteTime": {
     "end_time": "2024-03-09T22:15:59.440676Z",
     "start_time": "2024-03-09T22:15:50.641229Z"
    }
   },
   "id": "6b5c22ec4d73be44",
   "execution_count": 57
  },
  {
   "cell_type": "code",
   "outputs": [],
   "source": [],
   "metadata": {
    "collapsed": false
   },
   "id": "5eae5e67ebe88fd1"
  }
 ],
 "metadata": {
  "kernelspec": {
   "display_name": "Python 3",
   "language": "python",
   "name": "python3"
  },
  "language_info": {
   "codemirror_mode": {
    "name": "ipython",
    "version": 2
   },
   "file_extension": ".py",
   "mimetype": "text/x-python",
   "name": "python",
   "nbconvert_exporter": "python",
   "pygments_lexer": "ipython2",
   "version": "2.7.6"
  }
 },
 "nbformat": 4,
 "nbformat_minor": 5
}
