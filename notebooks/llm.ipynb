{
 "cells": [
  {
   "cell_type": "markdown",
   "source": [
    "Making LLM based on a book (Bigram)"
   ],
   "metadata": {
    "collapsed": false
   },
   "id": "4f656d76f2f67cfd"
  },
  {
   "cell_type": "code",
   "outputs": [
    {
     "name": "stdout",
     "output_type": "stream",
     "text": [
      "cuda\n"
     ]
    }
   ],
   "source": [
    "import torch\n",
    "device = \"cuda\" if torch.cuda.is_available() else \"cpu\"\n",
    "print(device)\n",
    "block_size = 8\n",
    "batch_size = 4\n",
    "max_iters = 10000\n",
    "learning_rate = 3e-4\n",
    "eval_iters = 250\n",
    "# dropout = 0.2"
   ],
   "metadata": {
    "collapsed": false,
    "ExecuteTime": {
     "end_time": "2024-03-07T04:04:00.992684300Z",
     "start_time": "2024-03-07T04:03:55.692350700Z"
    }
   },
   "id": "73082ea5571035a9",
   "execution_count": 1
  },
  {
   "cell_type": "code",
   "execution_count": 2,
   "id": "initial_id",
   "metadata": {
    "collapsed": true,
    "ExecuteTime": {
     "end_time": "2024-03-07T04:04:01.024513100Z",
     "start_time": "2024-03-07T04:04:00.992684300Z"
    }
   },
   "outputs": [
    {
     "name": "stdout",
     "output_type": "stream",
     "text": [
      "['\\n', ' ', '!', '\"', '#', '&', \"'\", '(', ')', '*', ',', '-', '.', '0', '1', '2', '3', '4', '5', '6', '7', '8', '9', ':', ';', '?', 'A', 'B', 'C', 'D', 'E', 'F', 'G', 'H', 'I', 'J', 'K', 'L', 'M', 'N', 'O', 'P', 'Q', 'R', 'S', 'T', 'U', 'V', 'W', 'Y', 'Z', '[', ']', 'a', 'b', 'c', 'd', 'e', 'f', 'g', 'h', 'i', 'j', 'k', 'l', 'm', 'n', 'o', 'p', 'q', 'r', 's', 't', 'u', 'v', 'w', 'x', 'y', 'z', '»', '¿', 'ï']\n"
     ]
    }
   ],
   "source": [
    "with open(\"../data/wizard_of_oz.txt\") as f:\n",
    "    text = f.read()\n",
    "    chars = sorted(set(text))\n",
    "    print(chars)\n",
    "    vocab_size = len(chars)"
   ]
  },
  {
   "cell_type": "code",
   "outputs": [
    {
     "name": "stdout",
     "output_type": "stream",
     "text": [
      "{'\\n': 0, ' ': 1, '!': 2, '\"': 3, '#': 4, '&': 5, \"'\": 6, '(': 7, ')': 8, '*': 9, ',': 10, '-': 11, '.': 12, '0': 13, '1': 14, '2': 15, '3': 16, '4': 17, '5': 18, '6': 19, '7': 20, '8': 21, '9': 22, ':': 23, ';': 24, '?': 25, 'A': 26, 'B': 27, 'C': 28, 'D': 29, 'E': 30, 'F': 31, 'G': 32, 'H': 33, 'I': 34, 'J': 35, 'K': 36, 'L': 37, 'M': 38, 'N': 39, 'O': 40, 'P': 41, 'Q': 42, 'R': 43, 'S': 44, 'T': 45, 'U': 46, 'V': 47, 'W': 48, 'Y': 49, 'Z': 50, '[': 51, ']': 52, 'a': 53, 'b': 54, 'c': 55, 'd': 56, 'e': 57, 'f': 58, 'g': 59, 'h': 60, 'i': 61, 'j': 62, 'k': 63, 'l': 64, 'm': 65, 'n': 66, 'o': 67, 'p': 68, 'q': 69, 'r': 70, 's': 71, 't': 72, 'u': 73, 'v': 74, 'w': 75, 'x': 76, 'y': 77, 'z': 78, '»': 79, '¿': 80, 'ï': 81}\n"
     ]
    }
   ],
   "source": [
    "string_to_int = {ch:i for i,ch in enumerate(chars)}\n",
    "print(string_to_int)"
   ],
   "metadata": {
    "collapsed": false,
    "ExecuteTime": {
     "end_time": "2024-03-07T04:04:01.103891200Z",
     "start_time": "2024-03-07T04:04:01.006833Z"
    }
   },
   "id": "8b59d3e441729956",
   "execution_count": 3
  },
  {
   "cell_type": "code",
   "outputs": [
    {
     "name": "stdout",
     "output_type": "stream",
     "text": [
      "{0: '\\n', 1: ' ', 2: '!', 3: '\"', 4: '#', 5: '&', 6: \"'\", 7: '(', 8: ')', 9: '*', 10: ',', 11: '-', 12: '.', 13: '0', 14: '1', 15: '2', 16: '3', 17: '4', 18: '5', 19: '6', 20: '7', 21: '8', 22: '9', 23: ':', 24: ';', 25: '?', 26: 'A', 27: 'B', 28: 'C', 29: 'D', 30: 'E', 31: 'F', 32: 'G', 33: 'H', 34: 'I', 35: 'J', 36: 'K', 37: 'L', 38: 'M', 39: 'N', 40: 'O', 41: 'P', 42: 'Q', 43: 'R', 44: 'S', 45: 'T', 46: 'U', 47: 'V', 48: 'W', 49: 'Y', 50: 'Z', 51: '[', 52: ']', 53: 'a', 54: 'b', 55: 'c', 56: 'd', 57: 'e', 58: 'f', 59: 'g', 60: 'h', 61: 'i', 62: 'j', 63: 'k', 64: 'l', 65: 'm', 66: 'n', 67: 'o', 68: 'p', 69: 'q', 70: 'r', 71: 's', 72: 't', 73: 'u', 74: 'v', 75: 'w', 76: 'x', 77: 'y', 78: 'z', 79: '»', 80: '¿', 81: 'ï'}\n"
     ]
    }
   ],
   "source": [
    "int_to_string = {i:ch for i,ch in enumerate(chars)}\n",
    "print(int_to_string)"
   ],
   "metadata": {
    "collapsed": false,
    "ExecuteTime": {
     "end_time": "2024-03-07T04:04:01.134761200Z",
     "start_time": "2024-03-07T04:04:01.013345700Z"
    }
   },
   "id": "e3c3aff91af6c2f5",
   "execution_count": 4
  },
  {
   "cell_type": "code",
   "outputs": [
    {
     "name": "stdout",
     "output_type": "stream",
     "text": [
      "[60, 57, 64, 64, 67]\n",
      "hello\n"
     ]
    }
   ],
   "source": [
    "encode = lambda s: [string_to_int[char] for char in s]\n",
    "decode = lambda n: ''.join([int_to_string[num] for num in n])\n",
    "t = encode(\"hello\")\n",
    "print(t)\n",
    "print(decode(t))"
   ],
   "metadata": {
    "collapsed": false,
    "ExecuteTime": {
     "end_time": "2024-03-07T04:04:01.163543800Z",
     "start_time": "2024-03-07T04:04:01.025548600Z"
    }
   },
   "id": "e1e8fa7b04adcfae",
   "execution_count": 5
  },
  {
   "cell_type": "code",
   "outputs": [
    {
     "name": "stdout",
     "output_type": "stream",
     "text": [
      "tensor([81, 79, 80, 45, 61, 72, 64, 57, 23,  1, 29, 67, 70, 67, 72, 60, 77,  1,\n",
      "        53, 66, 56,  1, 72, 60, 57,  1, 48, 61, 78, 53, 70, 56,  1, 61, 66,  1,\n",
      "        40, 78,  0,  0,  0, 26, 73, 72, 60, 67, 70, 23,  1, 37, 12,  1, 31, 70,\n",
      "        53, 66, 63,  1, 27, 53, 73, 65,  0,  0, 43, 57, 64, 57, 53, 71, 57,  1,\n",
      "        56, 53, 72, 57, 23,  1, 31, 57, 54, 70, 73, 53, 70, 77,  1, 14, 10,  1,\n",
      "        14, 22, 22, 19,  1, 51, 57, 27, 67, 67])\n"
     ]
    }
   ],
   "source": [
    "data = torch.tensor(encode(text), dtype=torch.long)\n",
    "print(data[:100])"
   ],
   "metadata": {
    "collapsed": false,
    "ExecuteTime": {
     "end_time": "2024-03-07T04:04:01.257134500Z",
     "start_time": "2024-03-07T04:04:01.033804100Z"
    }
   },
   "id": "80f50e87bf05563",
   "execution_count": 6
  },
  {
   "cell_type": "code",
   "outputs": [],
   "source": [
    "n = int(0.8*len(data))\n",
    "train_data = data[:n]\n",
    "val_data = data[n:]\n"
   ],
   "metadata": {
    "collapsed": false,
    "ExecuteTime": {
     "end_time": "2024-03-07T04:04:01.259223400Z",
     "start_time": "2024-03-07T04:04:01.099194400Z"
    }
   },
   "id": "a38b69f87edaf2d5",
   "execution_count": 7
  },
  {
   "cell_type": "code",
   "outputs": [
    {
     "name": "stdout",
     "output_type": "stream",
     "text": [
      "when input is tensor([81]), target is 79\n",
      "when input is tensor([81, 79]), target is 80\n",
      "when input is tensor([81, 79, 80]), target is 45\n",
      "when input is tensor([81, 79, 80, 45]), target is 61\n",
      "when input is tensor([81, 79, 80, 45, 61]), target is 72\n",
      "when input is tensor([81, 79, 80, 45, 61, 72]), target is 64\n",
      "when input is tensor([81, 79, 80, 45, 61, 72, 64]), target is 57\n",
      "when input is tensor([81, 79, 80, 45, 61, 72, 64, 57]), target is 23\n"
     ]
    }
   ],
   "source": [
    "x = train_data[:block_size]\n",
    "y = train_data[1:block_size+1]\n",
    "\n",
    "for t in range(block_size):\n",
    "    context = x[:t+1]\n",
    "    target = y[t]\n",
    "    print(f\"when input is {context}, target is {target}\")"
   ],
   "metadata": {
    "collapsed": false,
    "ExecuteTime": {
     "end_time": "2024-03-07T04:04:01.318939300Z",
     "start_time": "2024-03-07T04:04:01.106058600Z"
    }
   },
   "id": "1d8813c72c2f2f80",
   "execution_count": 8
  },
  {
   "cell_type": "code",
   "outputs": [],
   "source": [
    "def get_batch(split):\n",
    "    data = train_data if split == 'train' else val_data\n",
    "    ix = torch.randint(len(data)-block_size, (batch_size,))\n",
    "    # print(ix)\n",
    "    x = torch.stack([data[i:i+block_size] for i in ix])\n",
    "    y = torch.stack([data[i+1:i+block_size+1] for i in ix])\n",
    "    # print(x)\n",
    "    x = x.to(device)\n",
    "    y = y.to(device)\n",
    "    return x,y"
   ],
   "metadata": {
    "collapsed": false,
    "ExecuteTime": {
     "end_time": "2024-03-07T04:04:01.321192600Z",
     "start_time": "2024-03-07T04:04:01.117506200Z"
    }
   },
   "id": "89c8a308591b4594",
   "execution_count": 9
  },
  {
   "cell_type": "code",
   "outputs": [],
   "source": [
    "# print(len(data))"
   ],
   "metadata": {
    "collapsed": false,
    "ExecuteTime": {
     "end_time": "2024-03-07T04:04:01.339137100Z",
     "start_time": "2024-03-07T04:04:01.124529100Z"
    }
   },
   "id": "4f5fb93c3b089de0",
   "execution_count": 10
  },
  {
   "cell_type": "code",
   "outputs": [],
   "source": [
    "# print(torch.randint(len(data)-block_size, (batch_size,)))"
   ],
   "metadata": {
    "collapsed": false,
    "ExecuteTime": {
     "end_time": "2024-03-07T04:04:01.341179200Z",
     "start_time": "2024-03-07T04:04:01.129248200Z"
    }
   },
   "id": "5cf855160e84ae04",
   "execution_count": 11
  },
  {
   "cell_type": "code",
   "outputs": [
    {
     "name": "stdout",
     "output_type": "stream",
     "text": [
      "inputs\n",
      "tensor([[64, 56,  0, 71, 57, 57,  1, 75],\n",
      "        [58, 73, 64,  1, 54, 61, 59,  1],\n",
      "        [ 1, 66, 53, 72, 61, 67, 66, 71],\n",
      "        [ 0, 29, 67, 70, 67, 72, 60, 77]], device='cuda:0')\n",
      "outputs\n",
      "tensor([[56,  0, 71, 57, 57,  1, 75, 53],\n",
      "        [73, 64,  1, 54, 61, 59,  1, 69],\n",
      "        [66, 53, 72, 61, 67, 66, 71,  1],\n",
      "        [29, 67, 70, 67, 72, 60, 77,  1]], device='cuda:0')\n"
     ]
    }
   ],
   "source": [
    "x,y = get_batch('train')\n",
    "print(\"inputs\")\n",
    "print(x)\n",
    "print(\"outputs\")\n",
    "print(y)"
   ],
   "metadata": {
    "collapsed": false,
    "ExecuteTime": {
     "end_time": "2024-03-07T04:04:01.467457300Z",
     "start_time": "2024-03-07T04:04:01.139160100Z"
    }
   },
   "id": "1a2a34cad833f4fc",
   "execution_count": 12
  },
  {
   "cell_type": "code",
   "outputs": [],
   "source": [
    "@torch.no_grad()\n",
    "def estimate_loss():\n",
    "    out = {}\n",
    "    model.eval()\n",
    "    for split in ['train', 'val']:\n",
    "        losses = torch.zeros(eval_iters)\n",
    "        for k in range(eval_iters):\n",
    "            X,Y = get_batch(split)\n",
    "            logits,loss = model(X,Y)\n",
    "            losses[k] = loss.item()\n",
    "        out[split] = losses.mean()\n",
    "    model.train()\n",
    "    return out "
   ],
   "metadata": {
    "collapsed": false,
    "ExecuteTime": {
     "end_time": "2024-03-07T04:04:01.471596800Z",
     "start_time": "2024-03-07T04:04:01.295213600Z"
    }
   },
   "id": "4ed749b01e1ce12a",
   "execution_count": 13
  },
  {
   "cell_type": "code",
   "outputs": [],
   "source": [
    "import torch.nn as nn\n",
    "import torch.nn.functional as F\n",
    "\n",
    "class BigramLanguageModel(nn.Module):\n",
    "    def __init__(self,vocab_size):\n",
    "        super().__init__()\n",
    "        self.token_embedding_table = nn.Embedding(vocab_size,vocab_size)\n",
    "    \n",
    "    def forward(self,index,targets=None):\n",
    "        logits = self.token_embedding_table(index)\n",
    "        if targets is None:\n",
    "            loss = None\n",
    "        else:           \n",
    "            B,T,C = logits.shape\n",
    "            # print(B,T,C)\n",
    "            logits = logits.view(B*T,C)\n",
    "            targets = targets.view(B*T)\n",
    "            loss = F.cross_entropy(logits,targets)\n",
    "            \n",
    "        return logits, loss\n",
    "    \n",
    "    def generate(self, index, max_new_tokens):\n",
    "        # print(index)\n",
    "        # print(max_new_tokens)\n",
    "        for _ in range(max_new_tokens):\n",
    "            logits, loss = self.forward(index)\n",
    "            logits = logits[:,-1,:]\n",
    "            probs = F.softmax(logits,dim=-1)\n",
    "            index_next = torch.multinomial(probs,num_samples=1)\n",
    "            index = torch.cat((index,index_next),dim=1)\n",
    "            # print(index)\n",
    "        return index\n",
    "        \n",
    "        "
   ],
   "metadata": {
    "collapsed": false,
    "ExecuteTime": {
     "end_time": "2024-03-07T04:04:01.492604900Z",
     "start_time": "2024-03-07T04:04:01.305705600Z"
    }
   },
   "id": "3dc3d388a669cf8a",
   "execution_count": 14
  },
  {
   "cell_type": "code",
   "outputs": [
    {
     "name": "stdout",
     "output_type": "stream",
     "text": [
      "\n",
      "VïRvdNl6)8he7YP#FwiK0snMvïiY8Pl)*AuWAr(.5z3DF:KLRu8&d\n",
      "hU,J.2?V,TjN*onJOqfYYW[lx2'G)Fh1tf!DP#E#FYNlS3pl\n",
      "FnnTe#7Bwe84P8rw3IY:¿tpgVFdeg2CBkwe ;StOft \"RS8Zutd\n",
      "3JlfjN0,J&wtyg*1L8h0Rm#oRjLtn9 K*Na)ODlt!1L?OwJr-NO9U2]88Z?d\n",
      "V0Apod2wt.W\"8e\n",
      "vzTssRWfUR#L8hc]3yfn99x\"M1K:2bc'2lyWNJ\n",
      "kOfb]&yoMS6d#\n",
      "t5Q:gv!n;x[6iLï»WW9w¿sQJOQia]suAi*\"l' P#.[7ktjN0ka'koY,T:,v4j)8L\n",
      "dW\"!8V9KHT,&\"\n",
      "»Sl(uK)8cMMrv8\n",
      "g(:D:z&\n",
      "YSntHWYV0Lvo2»y»A&NBPdesb5os;0k'dW\"42on¿tg[G:.J(LSJlMRfLR5olQN#P-;8L8k0]2ESLYN»cny;AK:n9TcexD5c3D9oRw\n",
      "PAwe[V-,H\"ai\n"
     ]
    }
   ],
   "source": [
    "model = BigramLanguageModel(vocab_size)\n",
    "m = model.to(device)\n",
    "\n",
    "context = torch.zeros((1,1),dtype=torch.long,device=device)\n",
    "temp = m.generate(context,max_new_tokens=500)[0].tolist()\n",
    "# print(temp)\n",
    "generated_chars = decode(temp)\n",
    "print(generated_chars)"
   ],
   "metadata": {
    "collapsed": false,
    "ExecuteTime": {
     "end_time": "2024-03-07T04:04:01.963689100Z",
     "start_time": "2024-03-07T04:04:01.312572100Z"
    }
   },
   "id": "7142e209576f8f06",
   "execution_count": 15
  },
  {
   "cell_type": "code",
   "outputs": [
    {
     "name": "stdout",
     "output_type": "stream",
     "text": [
      "Step : 1, loss : {'train': tensor(4.6333), 'val': tensor(4.5958)}\n",
      "Step : 251, loss : {'train': tensor(4.5809), 'val': tensor(4.5324)}\n",
      "Step : 501, loss : {'train': tensor(4.4942), 'val': tensor(4.4801)}\n",
      "Step : 751, loss : {'train': tensor(4.4267), 'val': tensor(4.4237)}\n",
      "Step : 1001, loss : {'train': tensor(4.3822), 'val': tensor(4.3872)}\n",
      "Step : 1251, loss : {'train': tensor(4.3286), 'val': tensor(4.3127)}\n",
      "Step : 1501, loss : {'train': tensor(4.2612), 'val': tensor(4.2507)}\n",
      "Step : 1751, loss : {'train': tensor(4.2154), 'val': tensor(4.2149)}\n",
      "Step : 2001, loss : {'train': tensor(4.1572), 'val': tensor(4.1495)}\n",
      "Step : 2251, loss : {'train': tensor(4.1180), 'val': tensor(4.1115)}\n",
      "Step : 2501, loss : {'train': tensor(4.0745), 'val': tensor(4.0584)}\n",
      "Step : 2751, loss : {'train': tensor(4.0135), 'val': tensor(4.0097)}\n",
      "Step : 3001, loss : {'train': tensor(3.9553), 'val': tensor(3.9668)}\n",
      "Step : 3251, loss : {'train': tensor(3.9153), 'val': tensor(3.9193)}\n",
      "Step : 3501, loss : {'train': tensor(3.8704), 'val': tensor(3.8813)}\n",
      "Step : 3751, loss : {'train': tensor(3.8207), 'val': tensor(3.8329)}\n",
      "Step : 4001, loss : {'train': tensor(3.7939), 'val': tensor(3.8030)}\n",
      "Step : 4251, loss : {'train': tensor(3.7623), 'val': tensor(3.7447)}\n",
      "Step : 4501, loss : {'train': tensor(3.7156), 'val': tensor(3.6990)}\n",
      "Step : 4751, loss : {'train': tensor(3.6639), 'val': tensor(3.6766)}\n",
      "Step : 5001, loss : {'train': tensor(3.6262), 'val': tensor(3.6305)}\n",
      "Step : 5251, loss : {'train': tensor(3.5744), 'val': tensor(3.6176)}\n",
      "Step : 5501, loss : {'train': tensor(3.5570), 'val': tensor(3.5698)}\n",
      "Step : 5751, loss : {'train': tensor(3.5333), 'val': tensor(3.5397)}\n",
      "Step : 6001, loss : {'train': tensor(3.4988), 'val': tensor(3.4876)}\n",
      "Step : 6251, loss : {'train': tensor(3.4525), 'val': tensor(3.4786)}\n",
      "Step : 6501, loss : {'train': tensor(3.4250), 'val': tensor(3.4355)}\n",
      "Step : 6751, loss : {'train': tensor(3.3996), 'val': tensor(3.4118)}\n",
      "Step : 7001, loss : {'train': tensor(3.3770), 'val': tensor(3.3552)}\n",
      "Step : 7251, loss : {'train': tensor(3.3531), 'val': tensor(3.3488)}\n",
      "Step : 7501, loss : {'train': tensor(3.2803), 'val': tensor(3.3414)}\n",
      "Step : 7751, loss : {'train': tensor(3.2848), 'val': tensor(3.2918)}\n",
      "Step : 8001, loss : {'train': tensor(3.2482), 'val': tensor(3.2783)}\n",
      "Step : 8251, loss : {'train': tensor(3.2419), 'val': tensor(3.2483)}\n",
      "Step : 8501, loss : {'train': tensor(3.1948), 'val': tensor(3.2320)}\n",
      "Step : 8751, loss : {'train': tensor(3.2031), 'val': tensor(3.1851)}\n",
      "Step : 9001, loss : {'train': tensor(3.1584), 'val': tensor(3.1617)}\n",
      "Step : 9251, loss : {'train': tensor(3.1343), 'val': tensor(3.1202)}\n",
      "Step : 9501, loss : {'train': tensor(3.1151), 'val': tensor(3.1243)}\n",
      "Step : 9751, loss : {'train': tensor(3.0861), 'val': tensor(3.0996)}\n",
      "3.18597149848938\n"
     ]
    }
   ],
   "source": [
    "optimizer = torch.optim.AdamW(m.parameters(),lr=learning_rate)\n",
    "\n",
    "for iter in range(max_iters):\n",
    "    \n",
    "    xb,yb = get_batch('train')\n",
    "    \n",
    "    logits, loss = m.forward(xb,yb)\n",
    "    optimizer.zero_grad(set_to_none=True)\n",
    "    \n",
    "    loss.backward()\n",
    "    optimizer.step()\n",
    "    if iter % eval_iters == 0:\n",
    "        losses = estimate_loss()\n",
    "        print(f\"Step : {iter+1}, loss : {losses}\")\n",
    "    \n",
    "    \n",
    "print(loss.item())\n",
    "    "
   ],
   "metadata": {
    "collapsed": false,
    "ExecuteTime": {
     "end_time": "2024-03-07T04:04:28.383419400Z",
     "start_time": "2024-03-07T04:04:01.965694100Z"
    }
   },
   "id": "2d8ea2211943f514",
   "execution_count": 16
  },
  {
   "cell_type": "code",
   "outputs": [
    {
     "name": "stdout",
     "output_type": "stream",
     "text": [
      "\n",
      "LRvui6LR4VGwD.P31*T\"CD¿zm!1ngvLkqt[jod w.\"\n",
      "zm»Zï]ravonqfovavuKRa,a alfKre amBTfKalzhe\n",
      "ob[,T1LG\" ?VP#Z7742K*A»H)b5Z,VxZS8ky9hedw ankRl tTFwhuy9w f\"Twzy\n",
      "JCr st cer8)3»W[Fp,6 DT¿zl\" d swD#.Tiongh to Il,JsDSqftTnd k?8*ï7xYoan;\n",
      "F]88xEvuthe¿tV,!VsmST&qzZjuzgGkOuef(U1»G&muer\n",
      "he V9AIbycYmsir8adVQjZ5qbAï3q)8*\"N]8Pos.?N' i\"tont?&V5\n",
      "\n",
      "tas\n",
      "hedoghe-1&B4\"3#Uj\n",
      "ju mendhNzssk?&YA t.\"!hwQn o.Rla]il\n",
      "Nzwoupd-CWP#][EV, ogrkan-BïRzge¿J*10kgVst&d.-0Hhed#V#ZïYk?k-;RFFj7e d t ?'R#maVsto,TheesjI avRsi4S8LrizQ]S8LDCDB8keQM\n"
     ]
    }
   ],
   "source": [
    "context = torch.zeros((1,1),dtype=torch.long,device=device)\n",
    "temp = m.generate(context,max_new_tokens=500)[0].tolist()\n",
    "# print(temp)\n",
    "generated_chars = decode(temp)\n",
    "print(generated_chars)"
   ],
   "metadata": {
    "collapsed": false,
    "ExecuteTime": {
     "end_time": "2024-03-07T04:04:28.754329400Z",
     "start_time": "2024-03-07T04:04:28.386530500Z"
    }
   },
   "id": "897a3e305a879501",
   "execution_count": 17
  },
  {
   "cell_type": "code",
   "outputs": [],
   "source": [],
   "metadata": {
    "collapsed": false
   },
   "id": "798610ddc1ed8b9d"
  },
  {
   "cell_type": "code",
   "outputs": [],
   "source": [],
   "metadata": {
    "collapsed": false
   },
   "id": "fd53ea8ee5fed61a"
  },
  {
   "cell_type": "code",
   "outputs": [],
   "source": [],
   "metadata": {
    "collapsed": false
   },
   "id": "16a63cd1fa491f0c"
  },
  {
   "cell_type": "code",
   "outputs": [],
   "source": [],
   "metadata": {
    "collapsed": false
   },
   "id": "15d107115d5ef611"
  },
  {
   "cell_type": "code",
   "outputs": [],
   "source": [],
   "metadata": {
    "collapsed": false
   },
   "id": "d4b7eb1244c33db3"
  },
  {
   "cell_type": "code",
   "outputs": [],
   "source": [],
   "metadata": {
    "collapsed": false
   },
   "id": "365a8343ad23b137"
  },
  {
   "cell_type": "code",
   "outputs": [],
   "source": [],
   "metadata": {
    "collapsed": false
   },
   "id": "61423cd77a7a3332"
  },
  {
   "cell_type": "code",
   "outputs": [],
   "source": [],
   "metadata": {
    "collapsed": false
   },
   "id": "f26cef406358a78b"
  },
  {
   "cell_type": "code",
   "outputs": [],
   "source": [],
   "metadata": {
    "collapsed": false
   },
   "id": "730670661b245a3d"
  },
  {
   "cell_type": "code",
   "outputs": [],
   "source": [],
   "metadata": {
    "collapsed": false
   },
   "id": "95b13f33ae2a640a"
  },
  {
   "cell_type": "code",
   "outputs": [],
   "source": [],
   "metadata": {
    "collapsed": false
   },
   "id": "6cec1bc83f528e1e"
  },
  {
   "cell_type": "code",
   "outputs": [],
   "source": [],
   "metadata": {
    "collapsed": false
   },
   "id": "f4518d5f6cd23bf8"
  },
  {
   "cell_type": "code",
   "outputs": [],
   "source": [],
   "metadata": {
    "collapsed": false
   },
   "id": "e23674c23d666d6d"
  },
  {
   "cell_type": "code",
   "outputs": [],
   "source": [],
   "metadata": {
    "collapsed": false
   },
   "id": "8fbf8540298ced31"
  },
  {
   "cell_type": "code",
   "outputs": [],
   "source": [],
   "metadata": {
    "collapsed": false
   },
   "id": "5d668b470d2cc604"
  },
  {
   "cell_type": "code",
   "outputs": [],
   "source": [],
   "metadata": {
    "collapsed": false
   },
   "id": "7b075294f4f789af"
  },
  {
   "cell_type": "code",
   "outputs": [],
   "source": [],
   "metadata": {
    "collapsed": false
   },
   "id": "2dec259c362e195a"
  },
  {
   "cell_type": "code",
   "outputs": [],
   "source": [],
   "metadata": {
    "collapsed": false
   },
   "id": "f21901eb7de4037b"
  },
  {
   "cell_type": "code",
   "outputs": [],
   "source": [],
   "metadata": {
    "collapsed": false
   },
   "id": "4936e6b8d5b50be7"
  },
  {
   "cell_type": "code",
   "outputs": [],
   "source": [],
   "metadata": {
    "collapsed": false
   },
   "id": "22a4602751ec4dbf"
  },
  {
   "cell_type": "code",
   "outputs": [],
   "source": [],
   "metadata": {
    "collapsed": false
   },
   "id": "55e0ee06a2b87431"
  },
  {
   "cell_type": "code",
   "outputs": [],
   "source": [],
   "metadata": {
    "collapsed": false
   },
   "id": "d528395785bf3753"
  },
  {
   "cell_type": "code",
   "outputs": [],
   "source": [],
   "metadata": {
    "collapsed": false
   },
   "id": "3763aaa3dae80f38"
  },
  {
   "cell_type": "code",
   "outputs": [],
   "source": [],
   "metadata": {
    "collapsed": false
   },
   "id": "6dc58d12ac05e391"
  },
  {
   "cell_type": "code",
   "outputs": [
    {
     "name": "stdout",
     "output_type": "stream",
     "text": [
      "tensor([ 80,  24, -18, -44, -68, -29])\n"
     ]
    }
   ],
   "source": [
    "randint = torch.randint(-100,100,(6,))\n",
    "print(randint)"
   ],
   "metadata": {
    "collapsed": false,
    "ExecuteTime": {
     "end_time": "2024-03-06T08:46:09.963347900Z",
     "start_time": "2024-03-06T08:46:09.950896Z"
    }
   },
   "id": "23936c8b25d372b",
   "execution_count": 9
  },
  {
   "cell_type": "code",
   "outputs": [
    {
     "name": "stdout",
     "output_type": "stream",
     "text": [
      "tensor([[0., 0.],\n",
      "        [0., 0.],\n",
      "        [0., 0.]])\n"
     ]
    }
   ],
   "source": [
    "zeros = torch.zeros(3,2)\n",
    "print(zeros)"
   ],
   "metadata": {
    "collapsed": false,
    "ExecuteTime": {
     "end_time": "2024-03-06T08:46:49.189084900Z",
     "start_time": "2024-03-06T08:46:49.163844100Z"
    }
   },
   "id": "fad1f581595d99c7",
   "execution_count": 10
  },
  {
   "cell_type": "code",
   "outputs": [
    {
     "name": "stdout",
     "output_type": "stream",
     "text": [
      "tensor([[1., 1.],\n",
      "        [1., 1.],\n",
      "        [1., 1.]])\n"
     ]
    }
   ],
   "source": [
    "ones = torch.ones(3,2)\n",
    "print(ones)"
   ],
   "metadata": {
    "collapsed": false,
    "ExecuteTime": {
     "end_time": "2024-03-06T08:46:52.566367200Z",
     "start_time": "2024-03-06T08:46:52.539517400Z"
    }
   },
   "id": "beef5e86e38d20fe",
   "execution_count": 11
  },
  {
   "cell_type": "code",
   "outputs": [
    {
     "name": "stdout",
     "output_type": "stream",
     "text": [
      "tensor([[0., 0., 0.],\n",
      "        [0., 0., 0.]])\n"
     ]
    }
   ],
   "source": [
    "ip = torch.empty(2,3)\n",
    "print(ip)"
   ],
   "metadata": {
    "collapsed": false,
    "ExecuteTime": {
     "end_time": "2024-03-06T08:47:04.705457700Z",
     "start_time": "2024-03-06T08:47:04.700052700Z"
    }
   },
   "id": "abb61033bca7c5f1",
   "execution_count": 12
  },
  {
   "cell_type": "code",
   "outputs": [
    {
     "name": "stdout",
     "output_type": "stream",
     "text": [
      "tensor([0, 1, 2, 3, 4])\n"
     ]
    }
   ],
   "source": [
    "arranged = torch.arange(5)\n",
    "print(arranged)"
   ],
   "metadata": {
    "collapsed": false,
    "ExecuteTime": {
     "end_time": "2024-03-06T08:48:09.348696500Z",
     "start_time": "2024-03-06T08:48:09.341830500Z"
    }
   },
   "id": "c8822eb76cd6b553",
   "execution_count": 13
  },
  {
   "cell_type": "code",
   "outputs": [
    {
     "name": "stdout",
     "output_type": "stream",
     "text": [
      "tensor([-10.0000,  -3.3333,   3.3333,  10.0000])\n"
     ]
    }
   ],
   "source": [
    "linespace = torch.linspace(-10,10,4)\n",
    "print(linespace)"
   ],
   "metadata": {
    "collapsed": false,
    "ExecuteTime": {
     "end_time": "2024-03-06T08:48:09.785613800Z",
     "start_time": "2024-03-06T08:48:09.776132600Z"
    }
   },
   "id": "2facd99bb0e36548",
   "execution_count": 14
  },
  {
   "cell_type": "code",
   "outputs": [
    {
     "name": "stdout",
     "output_type": "stream",
     "text": [
      "tensor([[1., 0., 0., 0., 0.],\n",
      "        [0., 1., 0., 0., 0.],\n",
      "        [0., 0., 1., 0., 0.],\n",
      "        [0., 0., 0., 1., 0.],\n",
      "        [0., 0., 0., 0., 1.]])\n"
     ]
    }
   ],
   "source": [
    "eye = torch.eye(5)\n",
    "print(eye)"
   ],
   "metadata": {
    "collapsed": false,
    "ExecuteTime": {
     "end_time": "2024-03-06T08:48:10.146131600Z",
     "start_time": "2024-03-06T08:48:10.140413800Z"
    }
   },
   "id": "ab9d56c12464ef99",
   "execution_count": 15
  },
  {
   "cell_type": "code",
   "outputs": [
    {
     "name": "stdout",
     "output_type": "stream",
     "text": [
      "tensor([[[[22.9436, 23.3030, 21.0580,  ..., 18.9706, 22.5829, 22.4773],\n",
      "          [23.0462, 24.1119, 20.2935,  ..., 21.9798, 25.3922, 22.3464],\n",
      "          [25.6777, 25.5401, 23.1824,  ..., 24.2387, 27.7038, 25.0733],\n",
      "          ...,\n",
      "          [25.8578, 26.8156, 24.6552,  ..., 22.8153, 27.6399, 26.4145],\n",
      "          [24.5786, 23.3549, 21.7480,  ..., 21.7279, 25.8754, 23.9117],\n",
      "          [27.3609, 26.2646, 23.8730,  ..., 23.5902, 25.8850, 26.6126]],\n",
      "\n",
      "         [[22.4221, 25.1411, 25.8847,  ..., 22.7535, 23.7289, 20.7529],\n",
      "          [26.5403, 26.4328, 27.5436,  ..., 27.0906, 25.7120, 25.3994],\n",
      "          [23.7322, 28.7974, 27.3913,  ..., 26.3931, 26.2967, 23.7200],\n",
      "          ...,\n",
      "          [23.6226, 23.7646, 25.8572,  ..., 24.5157, 25.4423, 22.8607],\n",
      "          [25.0082, 27.0563, 26.0498,  ..., 25.1952, 25.7530, 24.2601],\n",
      "          [21.1754, 23.6531, 22.9782,  ..., 22.7256, 22.6980, 21.4831]],\n",
      "\n",
      "         [[27.9376, 28.0773, 29.1813,  ..., 27.8240, 29.2234, 28.2383],\n",
      "          [26.3458, 25.4355, 27.1305,  ..., 23.9179, 27.1199, 26.8331],\n",
      "          [24.7728, 23.6391, 25.5655,  ..., 22.8445, 25.7017, 22.6658],\n",
      "          ...,\n",
      "          [23.5640, 24.2937, 26.4084,  ..., 23.2882, 26.5700, 23.3757],\n",
      "          [23.3074, 25.2257, 24.7727,  ..., 22.4558, 24.5252, 24.5234],\n",
      "          [26.0400, 25.1148, 27.4696,  ..., 24.5797, 28.6351, 26.1538]],\n",
      "\n",
      "         ...,\n",
      "\n",
      "         [[27.0167, 25.0030, 26.1306,  ..., 28.0485, 22.0269, 24.4040],\n",
      "          [28.7928, 29.1196, 26.8471,  ..., 28.1052, 24.6752, 26.2770],\n",
      "          [23.9195, 24.9569, 23.3475,  ..., 25.1051, 20.7247, 20.6842],\n",
      "          ...,\n",
      "          [24.4587, 24.9539, 21.6126,  ..., 23.6664, 21.2342, 21.9357],\n",
      "          [23.6104, 26.0890, 22.6944,  ..., 24.3280, 22.8758, 21.5207],\n",
      "          [23.9341, 22.9296, 24.5552,  ..., 27.4396, 21.5204, 22.5829]],\n",
      "\n",
      "         [[29.3385, 25.4526, 26.2326,  ..., 27.3372, 25.4406, 26.4375],\n",
      "          [30.5483, 28.7802, 27.4838,  ..., 29.3548, 27.8620, 29.4486],\n",
      "          [26.2942, 22.9834, 21.4118,  ..., 24.9144, 23.5425, 26.1029],\n",
      "          ...,\n",
      "          [25.7734, 23.6973, 23.9382,  ..., 24.3818, 21.2374, 25.0221],\n",
      "          [29.0412, 27.4107, 24.9531,  ..., 27.2495, 26.9698, 26.5707],\n",
      "          [27.6226, 24.7280, 23.8555,  ..., 25.4266, 24.0997, 26.4851]],\n",
      "\n",
      "         [[25.1596, 27.0854, 23.8477,  ..., 24.2146, 27.0116, 24.4113],\n",
      "          [23.4428, 24.0398, 22.3771,  ..., 22.3121, 23.0762, 24.0488],\n",
      "          [23.7536, 26.2135, 21.7689,  ..., 22.6268, 24.9569, 27.1127],\n",
      "          ...,\n",
      "          [26.7560, 27.0440, 23.7892,  ..., 24.3713, 25.7203, 26.9660],\n",
      "          [24.4062, 25.1896, 21.7444,  ..., 21.1285, 26.0172, 24.3742],\n",
      "          [28.5099, 27.9533, 25.8476,  ..., 24.7735, 25.4966, 24.0466]]],\n",
      "\n",
      "\n",
      "        [[[24.8929, 22.4122, 22.4067,  ..., 21.2506, 23.9816, 21.4738],\n",
      "          [27.0546, 23.6852, 23.7510,  ..., 21.9664, 24.4124, 22.4571],\n",
      "          [29.0819, 26.5380, 25.2126,  ..., 24.8019, 26.7091, 22.4044],\n",
      "          ...,\n",
      "          [22.5845, 19.5857, 20.0024,  ..., 18.1347, 21.0478, 20.0677],\n",
      "          [26.1368, 24.2699, 24.1126,  ..., 21.5551, 25.1291, 22.7927],\n",
      "          [24.6441, 23.4069, 22.0267,  ..., 21.8627, 22.6507, 21.7867]],\n",
      "\n",
      "         [[24.5863, 25.9675, 25.8133,  ..., 23.5198, 25.0729, 28.6633],\n",
      "          [24.2752, 26.9479, 25.0235,  ..., 25.6621, 26.0324, 28.1892],\n",
      "          [24.1751, 24.3037, 24.9579,  ..., 22.3729, 23.8518, 26.6658],\n",
      "          ...,\n",
      "          [23.0739, 24.9555, 24.6681,  ..., 22.7512, 24.3641, 26.8409],\n",
      "          [25.0808, 27.1556, 25.1316,  ..., 24.6760, 24.5900, 28.4113],\n",
      "          [23.6424, 24.7623, 26.3897,  ..., 22.7605, 24.7253, 27.4693]],\n",
      "\n",
      "         [[26.5823, 26.6323, 24.9115,  ..., 29.6190, 24.8076, 24.9790],\n",
      "          [25.5399, 26.5090, 24.8916,  ..., 27.3759, 24.8159, 24.9036],\n",
      "          [23.0512, 24.6946, 23.1615,  ..., 25.0943, 23.0935, 23.1729],\n",
      "          ...,\n",
      "          [22.8475, 24.3860, 22.2151,  ..., 26.0645, 23.4924, 22.0535],\n",
      "          [23.5954, 24.0075, 22.1591,  ..., 24.1873, 23.8951, 23.1357],\n",
      "          [23.2414, 23.5223, 21.4601,  ..., 26.4349, 22.5881, 20.9925]],\n",
      "\n",
      "         ...,\n",
      "\n",
      "         [[19.8816, 23.6360, 25.8882,  ..., 22.8536, 25.3831, 23.8323],\n",
      "          [19.5153, 24.0631, 27.2169,  ..., 23.5711, 26.0541, 23.8398],\n",
      "          [21.3356, 23.8080, 25.2424,  ..., 22.1539, 24.6029, 24.0253],\n",
      "          ...,\n",
      "          [23.6854, 25.8682, 29.6610,  ..., 24.9446, 27.3337, 27.8486],\n",
      "          [24.5925, 27.3245, 29.7033,  ..., 24.8700, 29.3267, 26.8598],\n",
      "          [22.4279, 24.3446, 26.0665,  ..., 21.8700, 26.6844, 23.3292]],\n",
      "\n",
      "         [[27.6043, 28.0876, 25.6285,  ..., 25.7564, 27.6638, 28.8229],\n",
      "          [27.7608, 26.4530, 26.2906,  ..., 24.6642, 29.2650, 27.6002],\n",
      "          [25.7473, 24.9105, 23.6868,  ..., 22.9530, 24.8793, 23.8967],\n",
      "          ...,\n",
      "          [23.2361, 25.5813, 23.6918,  ..., 21.5338, 25.3778, 23.4224],\n",
      "          [23.2483, 23.9108, 23.0118,  ..., 21.1776, 25.6747, 25.9669],\n",
      "          [27.5857, 28.6476, 27.6422,  ..., 26.4982, 29.7486, 28.7616]],\n",
      "\n",
      "         [[24.4060, 24.2493, 25.7116,  ..., 23.4096, 23.2230, 26.9510],\n",
      "          [25.3793, 27.4755, 27.2952,  ..., 25.3843, 24.6203, 28.0849],\n",
      "          [24.7722, 28.2171, 26.2681,  ..., 24.6832, 27.0939, 27.8449],\n",
      "          ...,\n",
      "          [23.5408, 24.5714, 25.0614,  ..., 23.7980, 24.4912, 25.2502],\n",
      "          [27.0934, 29.1556, 30.4003,  ..., 28.1381, 29.0674, 30.3294],\n",
      "          [23.8489, 26.3441, 24.4150,  ..., 24.0028, 23.9598, 21.6644]]],\n",
      "\n",
      "\n",
      "        [[[25.1277, 27.7786, 20.9856,  ..., 24.4607, 27.1300, 24.0325],\n",
      "          [24.4618, 26.9591, 19.5450,  ..., 23.5306, 26.8434, 23.3851],\n",
      "          [22.0901, 22.9547, 19.0085,  ..., 21.3315, 24.2543, 22.5493],\n",
      "          ...,\n",
      "          [29.1692, 29.6042, 24.0673,  ..., 26.3395, 29.8408, 27.1465],\n",
      "          [23.2788, 23.7686, 18.2246,  ..., 21.6467, 23.2548, 20.4173],\n",
      "          [22.6474, 23.4813, 21.0530,  ..., 23.1253, 25.3869, 22.7626]],\n",
      "\n",
      "         [[23.6342, 24.9257, 26.1514,  ..., 26.0193, 26.3137, 25.5355],\n",
      "          [26.6186, 26.2490, 28.6327,  ..., 27.9604, 27.6791, 28.2340],\n",
      "          [23.2369, 22.6842, 25.7678,  ..., 25.2074, 24.9666, 23.6327],\n",
      "          ...,\n",
      "          [25.6728, 25.2557, 27.8610,  ..., 26.1285, 26.6304, 27.0487],\n",
      "          [22.8862, 22.0109, 24.5383,  ..., 24.5950, 23.6602, 23.8114],\n",
      "          [24.6444, 27.4254, 27.3553,  ..., 25.9163, 26.4652, 25.6554]],\n",
      "\n",
      "         [[23.1747, 21.7692, 22.8354,  ..., 18.5645, 22.0361, 24.4334],\n",
      "          [26.4810, 26.7294, 27.7962,  ..., 22.2289, 25.2783, 27.5350],\n",
      "          [21.2211, 24.3600, 24.2964,  ..., 19.4647, 22.5153, 24.1964],\n",
      "          ...,\n",
      "          [21.7617, 22.5059, 24.3746,  ..., 20.3003, 23.7543, 24.8410],\n",
      "          [24.1266, 23.4523, 25.1638,  ..., 20.1060, 22.7787, 24.9468],\n",
      "          [22.5654, 23.2518, 23.6561,  ..., 20.6519, 22.9687, 24.3252]],\n",
      "\n",
      "         ...,\n",
      "\n",
      "         [[25.6440, 25.4970, 25.7797,  ..., 20.5861, 23.4079, 27.0230],\n",
      "          [26.9031, 26.5902, 29.7864,  ..., 23.8570, 24.5105, 28.6077],\n",
      "          [24.1754, 24.8837, 27.3723,  ..., 20.1115, 24.5655, 27.8886],\n",
      "          ...,\n",
      "          [27.8496, 24.2072, 26.8431,  ..., 22.9268, 24.3797, 27.5425],\n",
      "          [24.7455, 25.5379, 28.4681,  ..., 21.4744, 22.6548, 26.9093],\n",
      "          [24.4629, 22.7468, 26.1201,  ..., 21.8829, 22.8138, 26.9613]],\n",
      "\n",
      "         [[25.4109, 27.3597, 22.8024,  ..., 24.0445, 25.8184, 23.1063],\n",
      "          [25.2060, 24.9502, 22.4849,  ..., 22.8229, 25.6785, 22.1628],\n",
      "          [27.5177, 29.3064, 26.1126,  ..., 26.6565, 27.5158, 24.9922],\n",
      "          ...,\n",
      "          [27.9484, 29.3779, 27.7639,  ..., 25.2335, 28.0727, 24.1377],\n",
      "          [24.8490, 26.3348, 24.1880,  ..., 24.1953, 25.9090, 23.4476],\n",
      "          [26.5679, 28.7936, 25.4516,  ..., 26.0572, 27.8580, 23.6684]],\n",
      "\n",
      "         [[26.2606, 24.0898, 24.3778,  ..., 25.2399, 25.1396, 25.6247],\n",
      "          [27.6839, 26.7096, 27.3637,  ..., 26.3625, 26.2819, 25.5524],\n",
      "          [25.5024, 24.3711, 25.8100,  ..., 23.2225, 25.5157, 24.0704],\n",
      "          ...,\n",
      "          [27.4485, 25.2892, 25.4297,  ..., 25.2398, 24.7698, 24.6370],\n",
      "          [24.8898, 23.6425, 24.5341,  ..., 23.9431, 24.0054, 24.1838],\n",
      "          [27.7705, 24.3346, 26.6205,  ..., 26.4192, 26.5490, 26.2816]]],\n",
      "\n",
      "\n",
      "        ...,\n",
      "\n",
      "\n",
      "        [[[24.7530, 21.8634, 22.7644,  ..., 23.9968, 24.1632, 23.0958],\n",
      "          [25.2304, 26.6932, 24.8182,  ..., 26.2872, 25.3051, 27.2215],\n",
      "          [26.3731, 24.7326, 25.0822,  ..., 26.4416, 25.4310, 27.1689],\n",
      "          ...,\n",
      "          [22.3150, 21.6750, 22.1570,  ..., 21.4723, 20.8938, 21.6339],\n",
      "          [24.8756, 23.8616, 22.9035,  ..., 25.8960, 24.1685, 24.4638],\n",
      "          [25.7975, 23.5276, 24.5405,  ..., 26.5076, 25.0080, 25.6816]],\n",
      "\n",
      "         [[24.8768, 27.0406, 26.4401,  ..., 24.5513, 25.8541, 24.6513],\n",
      "          [22.0623, 28.4402, 27.1652,  ..., 23.7155, 27.1170, 24.6777],\n",
      "          [22.9697, 26.3385, 25.0634,  ..., 24.4524, 25.2035, 21.8073],\n",
      "          ...,\n",
      "          [21.0424, 23.1734, 23.8915,  ..., 21.2016, 23.6411, 20.7739],\n",
      "          [21.6574, 23.5318, 21.8560,  ..., 20.5157, 22.1878, 19.8523],\n",
      "          [21.0532, 24.1361, 24.8118,  ..., 22.9717, 23.9062, 21.7616]],\n",
      "\n",
      "         [[24.8085, 23.4119, 25.7167,  ..., 26.1270, 28.7550, 25.2733],\n",
      "          [21.8540, 20.0435, 22.3008,  ..., 22.4617, 24.8550, 21.2582],\n",
      "          [25.8214, 23.6677, 26.4839,  ..., 26.4639, 27.6066, 25.5546],\n",
      "          ...,\n",
      "          [27.6427, 23.5734, 28.1580,  ..., 29.2980, 31.0361, 27.0640],\n",
      "          [23.7821, 22.5429, 25.2589,  ..., 25.7718, 27.8669, 24.8742],\n",
      "          [22.2186, 20.0211, 22.9449,  ..., 25.6366, 26.2024, 22.5065]],\n",
      "\n",
      "         ...,\n",
      "\n",
      "         [[27.6282, 26.3297, 25.3281,  ..., 28.3125, 22.4460, 28.6791],\n",
      "          [27.9428, 26.3491, 28.8355,  ..., 30.2656, 25.1023, 30.2989],\n",
      "          [28.5741, 26.8195, 27.7678,  ..., 29.1230, 24.9217, 30.4442],\n",
      "          ...,\n",
      "          [27.5195, 27.2367, 29.6648,  ..., 30.4656, 25.1285, 30.8637],\n",
      "          [26.3164, 23.9615, 23.2031,  ..., 27.0145, 22.3902, 27.5477],\n",
      "          [29.4330, 28.2243, 28.1756,  ..., 31.5008, 24.9545, 31.5529]],\n",
      "\n",
      "         [[24.4483, 23.3201, 26.1732,  ..., 28.0292, 24.9158, 28.3574],\n",
      "          [25.0269, 23.1355, 24.3828,  ..., 26.6714, 24.7809, 26.3119],\n",
      "          [23.8450, 23.6771, 23.9676,  ..., 24.6201, 24.5415, 23.6391],\n",
      "          ...,\n",
      "          [25.6185, 23.4922, 25.5902,  ..., 27.6485, 24.9587, 27.5401],\n",
      "          [23.6412, 22.3663, 24.1857,  ..., 27.3538, 24.3339, 27.0674],\n",
      "          [23.1783, 22.5204, 23.6558,  ..., 25.5714, 24.6839, 24.3056]],\n",
      "\n",
      "         [[21.5649, 22.0465, 24.1519,  ..., 24.2358, 24.6349, 23.8831],\n",
      "          [26.0444, 24.5980, 26.0299,  ..., 29.1952, 26.8582, 27.5480],\n",
      "          [24.7405, 23.3369, 24.1743,  ..., 24.9935, 23.9005, 26.4527],\n",
      "          ...,\n",
      "          [22.7915, 22.0657, 23.0061,  ..., 22.8914, 22.9206, 23.8842],\n",
      "          [21.7247, 21.8107, 24.9116,  ..., 23.7584, 23.7968, 23.2265],\n",
      "          [23.5174, 23.5498, 24.2019,  ..., 24.5335, 23.6243, 23.5644]]],\n",
      "\n",
      "\n",
      "        [[[24.3720, 26.1609, 25.3806,  ..., 23.8351, 23.1276, 22.5723],\n",
      "          [25.0613, 27.0948, 24.4267,  ..., 25.3892, 24.7251, 24.0474],\n",
      "          [24.9702, 28.5264, 24.6246,  ..., 29.0313, 24.8765, 23.7905],\n",
      "          ...,\n",
      "          [22.7517, 26.2045, 22.6501,  ..., 24.5092, 22.7198, 23.2623],\n",
      "          [24.8644, 27.5737, 22.5897,  ..., 23.7556, 24.1543, 23.6039],\n",
      "          [23.7086, 24.9697, 20.4398,  ..., 22.3095, 22.1784, 19.4926]],\n",
      "\n",
      "         [[23.8192, 24.8690, 26.7003,  ..., 25.8150, 20.8020, 23.3972],\n",
      "          [25.1695, 25.8016, 27.3776,  ..., 26.3244, 21.1805, 25.9406],\n",
      "          [25.3487, 22.8220, 27.4821,  ..., 23.8953, 20.4046, 24.2135],\n",
      "          ...,\n",
      "          [24.5266, 23.4726, 25.7697,  ..., 26.1368, 23.2574, 24.1232],\n",
      "          [23.6611, 22.3851, 26.1255,  ..., 24.9425, 20.9882, 24.1214],\n",
      "          [26.5382, 25.4844, 29.4311,  ..., 28.2638, 23.1568, 26.4709]],\n",
      "\n",
      "         [[21.7369, 24.5008, 26.4231,  ..., 27.8289, 23.5015, 24.4816],\n",
      "          [22.3476, 25.1859, 25.9115,  ..., 27.1803, 25.2864, 25.3957],\n",
      "          [20.1127, 22.5655, 22.9682,  ..., 23.7538, 20.2431, 22.8613],\n",
      "          ...,\n",
      "          [22.5890, 23.9602, 24.9536,  ..., 26.2866, 22.2619, 24.3326],\n",
      "          [21.1769, 23.1452, 27.2549,  ..., 24.0254, 25.0311, 24.7746],\n",
      "          [23.0272, 25.2674, 24.6976,  ..., 26.7054, 23.3952, 24.3420]],\n",
      "\n",
      "         ...,\n",
      "\n",
      "         [[26.0313, 22.7397, 24.2482,  ..., 24.4152, 23.8007, 24.8531],\n",
      "          [23.6758, 21.0151, 23.3327,  ..., 22.4479, 22.1797, 23.1327],\n",
      "          [26.1451, 26.2596, 25.4202,  ..., 25.6413, 24.5439, 24.3838],\n",
      "          ...,\n",
      "          [22.4690, 22.5100, 23.8626,  ..., 23.0342, 21.6754, 24.0413],\n",
      "          [30.8952, 27.4836, 27.7550,  ..., 28.1733, 26.7784, 28.2834],\n",
      "          [27.7993, 24.6164, 27.4783,  ..., 25.4674, 23.2625, 25.3031]],\n",
      "\n",
      "         [[22.9465, 24.9783, 22.2715,  ..., 25.9768, 22.1599, 22.2399],\n",
      "          [24.4280, 26.7788, 23.8598,  ..., 25.6704, 23.1410, 24.3368],\n",
      "          [26.1773, 27.3311, 24.6791,  ..., 26.3038, 26.3074, 25.5527],\n",
      "          ...,\n",
      "          [25.3389, 25.8420, 23.1063,  ..., 26.6958, 22.8458, 23.8041],\n",
      "          [24.4006, 25.5715, 23.5528,  ..., 25.2313, 22.4658, 23.2221],\n",
      "          [24.1717, 27.4306, 22.9902,  ..., 24.5189, 25.9417, 25.4008]],\n",
      "\n",
      "         [[23.0362, 26.9791, 32.0325,  ..., 30.3178, 30.7812, 26.9874],\n",
      "          [23.9316, 26.4449, 29.5758,  ..., 26.3342, 28.7502, 24.6448],\n",
      "          [24.6096, 26.7998, 32.6329,  ..., 29.5673, 29.8869, 26.0414],\n",
      "          ...,\n",
      "          [24.3010, 26.9751, 31.3154,  ..., 29.9471, 29.8595, 27.3197],\n",
      "          [20.3881, 19.9814, 24.3857,  ..., 23.1595, 25.4283, 22.5418],\n",
      "          [20.6271, 22.6999, 27.3405,  ..., 25.6259, 27.7922, 22.8965]]],\n",
      "\n",
      "\n",
      "        [[[22.1294, 25.4755, 25.5471,  ..., 24.6499, 24.0801, 27.2048],\n",
      "          [20.9866, 23.9473, 22.8818,  ..., 21.9762, 21.2327, 25.3002],\n",
      "          [23.4040, 26.5984, 25.1014,  ..., 25.3273, 25.2442, 27.9902],\n",
      "          ...,\n",
      "          [25.2984, 26.3664, 25.0497,  ..., 24.8050, 23.2091, 26.1365],\n",
      "          [22.4759, 24.9323, 24.1414,  ..., 23.7518, 23.0984, 26.6022],\n",
      "          [21.5088, 23.9256, 23.5488,  ..., 22.4168, 21.8240, 27.2640]],\n",
      "\n",
      "         [[22.9330, 23.8523, 24.2092,  ..., 24.1026, 27.7287, 26.0250],\n",
      "          [24.7405, 26.8604, 27.2762,  ..., 26.7648, 29.1198, 27.4140],\n",
      "          [25.7951, 25.8736, 25.8734,  ..., 25.1601, 30.3902, 28.8001],\n",
      "          ...,\n",
      "          [23.1025, 24.5830, 25.0478,  ..., 24.6388, 28.1474, 25.0435],\n",
      "          [22.8878, 24.8518, 25.3836,  ..., 24.5475, 28.7208, 26.7171],\n",
      "          [26.0410, 25.9602, 29.6305,  ..., 27.0801, 31.9610, 26.4213]],\n",
      "\n",
      "         [[24.1437, 24.1665, 20.6291,  ..., 28.5670, 25.4507, 27.5495],\n",
      "          [22.7596, 21.6920, 20.6530,  ..., 25.2613, 23.7009, 25.7418],\n",
      "          [23.3647, 23.3394, 20.3634,  ..., 26.7737, 24.4864, 25.9587],\n",
      "          ...,\n",
      "          [25.5826, 24.0061, 22.1519,  ..., 25.6422, 27.0511, 26.5486],\n",
      "          [25.0433, 25.1230, 21.4861,  ..., 29.5034, 26.8351, 26.8493],\n",
      "          [23.2518, 22.4736, 19.1757,  ..., 27.7538, 24.0921, 25.0238]],\n",
      "\n",
      "         ...,\n",
      "\n",
      "         [[25.8547, 25.4734, 26.3571,  ..., 25.2219, 25.2763, 25.6268],\n",
      "          [21.2461, 22.9440, 24.4582,  ..., 22.2378, 21.1271, 23.4322],\n",
      "          [24.2033, 26.3432, 28.1557,  ..., 25.3962, 23.7347, 26.7597],\n",
      "          ...,\n",
      "          [22.5244, 24.0441, 23.4256,  ..., 21.0654, 21.4133, 22.2991],\n",
      "          [21.7099, 23.4372, 24.4544,  ..., 23.5790, 20.6508, 22.7594],\n",
      "          [23.4331, 22.8683, 25.0800,  ..., 23.9602, 22.5518, 23.1354]],\n",
      "\n",
      "         [[26.3878, 27.6426, 26.5941,  ..., 26.5354, 27.1382, 27.5636],\n",
      "          [27.0081, 26.2937, 24.0483,  ..., 28.1295, 29.2598, 28.7263],\n",
      "          [24.5499, 24.1248, 22.2298,  ..., 22.5227, 24.8866, 23.9516],\n",
      "          ...,\n",
      "          [23.2094, 24.8693, 23.1895,  ..., 24.5662, 26.9171, 26.0936],\n",
      "          [21.8650, 23.9190, 21.5368,  ..., 24.4550, 24.4575, 26.2570],\n",
      "          [27.6810, 27.5826, 25.8828,  ..., 27.3773, 29.1947, 27.9647]],\n",
      "\n",
      "         [[27.7497, 27.0761, 22.7164,  ..., 23.3653, 24.4445, 27.1126],\n",
      "          [25.7802, 23.3702, 20.1385,  ..., 22.0465, 23.6064, 21.9833],\n",
      "          [28.3459, 25.5925, 23.6182,  ..., 23.3414, 25.1882, 25.4426],\n",
      "          ...,\n",
      "          [32.0963, 30.5901, 25.4515,  ..., 28.2683, 28.7463, 30.1161],\n",
      "          [26.8376, 26.2971, 22.2209,  ..., 23.1431, 23.4013, 24.7274],\n",
      "          [25.1680, 25.4611, 21.3014,  ..., 22.1744, 22.5408, 24.9631]]]],\n",
      "       device='cuda:0')\n"
     ]
    }
   ],
   "source": [
    "t1 = torch.rand(100,100,100,100).to(device)\n",
    "t2 = torch.rand(100,100,100,100).to(device)\n",
    "ans = t1 @ t2\n",
    "print(ans)"
   ],
   "metadata": {
    "collapsed": false,
    "ExecuteTime": {
     "end_time": "2024-03-06T08:49:42.288871100Z",
     "start_time": "2024-03-06T08:49:40.078765Z"
    }
   },
   "id": "380dfe9157e2edad",
   "execution_count": 16
  },
  {
   "cell_type": "code",
   "outputs": [
    {
     "name": "stdout",
     "output_type": "stream",
     "text": [
      "tensor([1, 0, 1, 1, 1, 1, 1, 1, 0, 1])\n"
     ]
    }
   ],
   "source": [
    "probability = torch.tensor([0.1,0.9])\n",
    "sample = torch.multinomial(probability,10,replacement=True)\n",
    "print(sample)"
   ],
   "metadata": {
    "collapsed": false,
    "ExecuteTime": {
     "end_time": "2024-03-06T08:52:09.621754800Z",
     "start_time": "2024-03-06T08:52:09.616828600Z"
    }
   },
   "id": "d6d5f275cd37de0b",
   "execution_count": 17
  },
  {
   "cell_type": "code",
   "outputs": [
    {
     "name": "stdout",
     "output_type": "stream",
     "text": [
      "(0,)\n",
      "tensor([0.1000, 0.9000, 5.0000])\n"
     ]
    }
   ],
   "source": [
    "t = torch.tensor([0.1,0.9])\n",
    "print(t.dim_order())\n",
    "sample = torch.cat((t,torch.tensor([5])),dim=0)\n",
    "print(sample)"
   ],
   "metadata": {
    "collapsed": false,
    "ExecuteTime": {
     "end_time": "2024-03-06T08:59:50.242691700Z",
     "start_time": "2024-03-06T08:59:50.233053300Z"
    }
   },
   "id": "55835633f824b72d",
   "execution_count": 18
  },
  {
   "cell_type": "code",
   "outputs": [
    {
     "name": "stdout",
     "output_type": "stream",
     "text": [
      "tensor([[1., 0., 0., 0., 0.],\n",
      "        [1., 1., 0., 0., 0.],\n",
      "        [1., 1., 1., 0., 0.],\n",
      "        [1., 1., 1., 1., 0.],\n",
      "        [1., 1., 1., 1., 1.]])\n"
     ]
    }
   ],
   "source": [
    "op = torch.tril(torch.ones(5,5))\n",
    "print(op)"
   ],
   "metadata": {
    "collapsed": false,
    "ExecuteTime": {
     "end_time": "2024-03-06T09:00:21.494064200Z",
     "start_time": "2024-03-06T09:00:21.486818700Z"
    }
   },
   "id": "89de5e9587ea064a",
   "execution_count": 19
  },
  {
   "cell_type": "code",
   "outputs": [
    {
     "name": "stdout",
     "output_type": "stream",
     "text": [
      "tensor([[1., 1., 1., 1., 1.],\n",
      "        [0., 1., 1., 1., 1.],\n",
      "        [0., 0., 1., 1., 1.],\n",
      "        [0., 0., 0., 1., 1.],\n",
      "        [0., 0., 0., 0., 1.]])\n"
     ]
    }
   ],
   "source": [
    "op = torch.triu(torch.ones(5,5))\n",
    "print(op)"
   ],
   "metadata": {
    "collapsed": false,
    "ExecuteTime": {
     "end_time": "2024-03-06T09:00:23.905575600Z",
     "start_time": "2024-03-06T09:00:23.889588600Z"
    }
   },
   "id": "8051d0fffefb3a64",
   "execution_count": 20
  },
  {
   "cell_type": "code",
   "outputs": [
    {
     "name": "stdout",
     "output_type": "stream",
     "text": [
      "tensor([[0., -inf, -inf, -inf, -inf],\n",
      "        [0., 0., -inf, -inf, -inf],\n",
      "        [0., 0., 0., -inf, -inf],\n",
      "        [0., 0., 0., 0., -inf],\n",
      "        [0., 0., 0., 0., 0.]])\n",
      "tensor([[1., 0., 0., 0., 0.],\n",
      "        [1., 1., 0., 0., 0.],\n",
      "        [1., 1., 1., 0., 0.],\n",
      "        [1., 1., 1., 1., 0.],\n",
      "        [1., 1., 1., 1., 1.]])\n"
     ]
    }
   ],
   "source": [
    "op = torch.zeros(5,5).masked_fill(torch.tril(torch.ones(5,5))==0, float('-inf'))\n",
    "print(op)\n",
    "print(torch.exp(op))"
   ],
   "metadata": {
    "collapsed": false,
    "ExecuteTime": {
     "end_time": "2024-03-06T09:05:13.128706700Z",
     "start_time": "2024-03-06T09:05:13.047506600Z"
    }
   },
   "id": "20ce56ba0a9cda79",
   "execution_count": 21
  },
  {
   "cell_type": "code",
   "outputs": [
    {
     "name": "stdout",
     "output_type": "stream",
     "text": [
      "torch.Size([4, 3, 2])\n"
     ]
    }
   ],
   "source": [
    "ip = torch.zeros(2,3,4)\n",
    "op = ip.transpose(0,2)\n",
    "print(op.shape)"
   ],
   "metadata": {
    "collapsed": false,
    "ExecuteTime": {
     "end_time": "2024-03-06T09:05:26.615188500Z",
     "start_time": "2024-03-06T09:05:26.610155800Z"
    }
   },
   "id": "5fc7961d965e940e",
   "execution_count": 22
  },
  {
   "cell_type": "code",
   "outputs": [
    {
     "name": "stdout",
     "output_type": "stream",
     "text": [
      "tensor([[0.3830, 0.8691, 0.0137, 0.0580, 0.4915],\n",
      "        [0.4180, 0.8457, 0.1734, 0.4311, 0.6275],\n",
      "        [0.1991, 0.0994, 0.2867, 0.6081, 0.2340]])\n"
     ]
    }
   ],
   "source": [
    "t1 = torch.rand(5)\n",
    "t2 = torch.rand(5)\n",
    "t3 = torch.rand(5)\n",
    "stacked = torch.stack((t1,t2,t3))\n",
    "print(stacked)"
   ],
   "metadata": {
    "collapsed": false,
    "ExecuteTime": {
     "end_time": "2024-03-06T09:09:46.642598300Z",
     "start_time": "2024-03-06T09:09:46.638625700Z"
    }
   },
   "id": "ceabc1fd5da08df0",
   "execution_count": 23
  },
  {
   "cell_type": "code",
   "outputs": [
    {
     "name": "stdout",
     "output_type": "stream",
     "text": [
      "tensor([ 9.6115, -0.5403,  9.1314], grad_fn=<SqueezeBackward4>)\n"
     ]
    }
   ],
   "source": [
    "import torch.nn as nn\n",
    "sample = torch.tensor([10.,10.,10.])\n",
    "linear = nn.Linear(3,3,bias=False)\n",
    "print(linear(sample))"
   ],
   "metadata": {
    "collapsed": false,
    "ExecuteTime": {
     "end_time": "2024-03-06T09:16:06.798576500Z",
     "start_time": "2024-03-06T09:16:06.779335600Z"
    }
   },
   "id": "44868f82a0e020d7",
   "execution_count": 24
  },
  {
   "cell_type": "code",
   "outputs": [
    {
     "name": "stdout",
     "output_type": "stream",
     "text": [
      "tensor([0.0900, 0.2447, 0.6652])\n"
     ]
    }
   ],
   "source": [
    "import torch.nn.functional as F\n",
    "t1 = torch.tensor([1.0,2.0,3.0]) \n",
    "op = F.softmax(t1,dim=0)\n",
    "print(op)"
   ],
   "metadata": {
    "collapsed": false,
    "ExecuteTime": {
     "end_time": "2024-03-06T09:21:45.050173900Z",
     "start_time": "2024-03-06T09:21:45.035176400Z"
    }
   },
   "id": "19e526f1fecec684",
   "execution_count": 25
  },
  {
   "cell_type": "code",
   "outputs": [
    {
     "name": "stdout",
     "output_type": "stream",
     "text": [
      "torch.Size([4, 100])\n"
     ]
    }
   ],
   "source": [
    "vocab_size = len(chars)\n",
    "embedding_dim = 100\n",
    "embedding = nn.Embedding(vocab_size,embedding_dim)\n",
    "\n",
    "input_word = torch.LongTensor([1,5,3,2])\n",
    "# input_word = torch.LongTensor(data)\n",
    "\n",
    "embedded_op = embedding(input_word)\n",
    "# print(embedded_op)\n",
    "print(embedded_op.shape)"
   ],
   "metadata": {
    "collapsed": false,
    "ExecuteTime": {
     "end_time": "2024-03-06T09:56:46.175787900Z",
     "start_time": "2024-03-06T09:56:46.163948300Z"
    }
   },
   "id": "2c4009d6e5544640",
   "execution_count": 30
  },
  {
   "cell_type": "code",
   "outputs": [
    {
     "name": "stdout",
     "output_type": "stream",
     "text": [
      "tensor([[ 27,  30,  33],\n",
      "        [ 61,  68,  75],\n",
      "        [ 95, 106, 117]])\n"
     ]
    }
   ],
   "source": [
    "a = torch.tensor([[1,2],[3,4],[5,6]])\n",
    "b = torch.tensor([[7,8,9],[10,11,12]])\n",
    "print(a@b)"
   ],
   "metadata": {
    "collapsed": false,
    "ExecuteTime": {
     "end_time": "2024-03-06T10:28:41.325529300Z",
     "start_time": "2024-03-06T10:28:41.316834800Z"
    }
   },
   "id": "c2523bc2285802d2",
   "execution_count": 31
  },
  {
   "cell_type": "code",
   "outputs": [
    {
     "name": "stdout",
     "output_type": "stream",
     "text": [
      "tensor([[0., 0.],\n",
      "        [0., 0.],\n",
      "        [0., 0.]])\n",
      "torch.float32\n",
      "tensor([[0.6897, 0.1741, 0.8864],\n",
      "        [0.0638, 0.6483, 0.6561]])\n",
      "torch.float32\n"
     ]
    }
   ],
   "source": [
    "int_64 = torch.randint(1,(3,2)).float()\n",
    "print(int_64)\n",
    "print(int_64.dtype)\n",
    "float_32 = torch.rand(2,3)\n",
    "print(float_32)\n",
    "print(float_32.dtype)"
   ],
   "metadata": {
    "collapsed": false,
    "ExecuteTime": {
     "end_time": "2024-03-06T10:34:01.878624300Z",
     "start_time": "2024-03-06T10:34:01.868914700Z"
    }
   },
   "id": "9e32054a1674874b",
   "execution_count": 38
  },
  {
   "cell_type": "code",
   "outputs": [
    {
     "name": "stdout",
     "output_type": "stream",
     "text": [
      "tensor([[0., 0., 0.],\n",
      "        [0., 0., 0.],\n",
      "        [0., 0., 0.]])\n"
     ]
    }
   ],
   "source": [
    "result = torch.matmul(int_64,float_32)\n",
    "print(result)"
   ],
   "metadata": {
    "collapsed": false,
    "ExecuteTime": {
     "end_time": "2024-03-06T10:34:02.322586Z",
     "start_time": "2024-03-06T10:34:02.316183400Z"
    }
   },
   "id": "c24034118a75ed9a",
   "execution_count": 39
  },
  {
   "cell_type": "code",
   "outputs": [],
   "source": [],
   "metadata": {
    "collapsed": false
   },
   "id": "93a96db3e171efec"
  }
 ],
 "metadata": {
  "kernelspec": {
   "display_name": "Python 3",
   "language": "python",
   "name": "python3"
  },
  "language_info": {
   "codemirror_mode": {
    "name": "ipython",
    "version": 2
   },
   "file_extension": ".py",
   "mimetype": "text/x-python",
   "name": "python",
   "nbconvert_exporter": "python",
   "pygments_lexer": "ipython2",
   "version": "2.7.6"
  }
 },
 "nbformat": 4,
 "nbformat_minor": 5
}
